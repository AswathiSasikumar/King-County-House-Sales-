{
 "cells": [
  {
   "cell_type": "markdown",
   "metadata": {},
   "source": [
    "![example](images/director_shot.jpeg)"
   ]
  },
  {
   "cell_type": "markdown",
   "metadata": {},
   "source": [
    "# Microsoft Movie Analysis\n",
    "***\n",
    "**Author:** <span style='color:Blue'> Aswathi Sasikumar.  </span>"
   ]
  },
  {
   "cell_type": "markdown",
   "metadata": {},
   "source": [
    "## Overview\n",
    "--------------\n",
    "\n",
    "This project analyzes the types of movies that are currently doing the best at the box office.This will give insights to Microsoft about the current trends in Movie Market and will enable them to devise strategies for creating movies in their new Movie Studio."
   ]
  },
  {
   "cell_type": "markdown",
   "metadata": {},
   "source": [
    "### Business Problem\n",
    "--------------------\n",
    "\n",
    "<p>Microsoft will be able to understand the latest trends in the movies that are making big profit in Box-office.They will be able to make following inferences from the analysis.</p>\n",
    "    \n",
    "    * Identify the genres that are getting the highest votes/rating from public.\n",
    "    * Identify the genres that are marking profit in domestic and international market\n",
    "    * Identify the studios that are making trend setter movies.\n",
    "    \n",
    "They can utilize these findings in deciding upon the movies they should create in their new Movie Studio to get maximum profit.The datasets from the popular movie datasets were analysed.\n",
    "   * <a href=\"https://www.imdb.com/\">IMDB</a>\n",
    "   * <a href=\"https://www.boxofficemojo.com/\">BOX Office MOJO</a>"
   ]
  },
  {
   "cell_type": "markdown",
   "metadata": {},
   "source": [
    "## Data Understanding\n",
    "---\n",
    "<span style='font-family:Helvetica'>\n",
    "IMDb is the world's most popular and authoritative source for movie, TV and celebrity content.One can find in it the ratings and reviews for the newest movie and TV shows.IMDB dataset contains rating and number of votes given to each movie.Box Office Mojo is an American website that tracks box-office revenue in a systematic, algorithmic way.</span>"
   ]
  },
  {
   "cell_type": "code",
   "execution_count": 1,
   "metadata": {},
   "outputs": [],
   "source": [
    "# Import standard packages\n",
    "import pandas as pd\n",
    "import numpy as np\n",
    "import matplotlib.pyplot as plt\n",
    "import seaborn as sns\n",
    "from sklearn.feature_extraction.text import CountVectorizer as countVectorizer\n",
    "import difflib\n",
    "\n",
    "%matplotlib inline"
   ]
  },
  {
   "cell_type": "code",
   "execution_count": 2,
   "metadata": {},
   "outputs": [],
   "source": [
    "# Code to explore the data\n",
    "imdb_basics_df = pd.read_csv('../Microsoft-Movie-Analysis/data/zippedData/imdb.title.basics.csv.gz', compression='gzip', \n",
    "                                 header=0, sep=',', quotechar='\"')\n",
    "imdb_ratings_df = pd.read_csv('../Microsoft-Movie-Analysis/data/zippedData/imdb.title.ratings.csv.gz', compression='gzip', \n",
    "                                 header=0, sep=',', quotechar='\"')\n",
    "bom_gross_df = pd.read_csv('../Microsoft-Movie-Analysis/data/zippedData/bom.movie_gross.csv.gz', compression='gzip', \n",
    "                                 header=0, sep=',', quotechar='\"')"
   ]
  },
  {
   "cell_type": "markdown",
   "metadata": {},
   "source": [
    "## 1. IMDB.title.basics data set\n",
    "\n",
    "<span style='font-family:Helvetica'>IMDB Basics data set contains titles/movies for the period 2010-2115.Each movie is identified by an index \"tconst\".The other columns are year,runtime minutes,genres.</span>"
   ]
  },
  {
   "cell_type": "code",
   "execution_count": 3,
   "metadata": {},
   "outputs": [
    {
     "name": "stdout",
     "output_type": "stream",
     "text": [
      "<class 'pandas.core.frame.DataFrame'>\n",
      "RangeIndex: 146144 entries, 0 to 146143\n",
      "Data columns (total 6 columns):\n",
      " #   Column           Non-Null Count   Dtype  \n",
      "---  ------           --------------   -----  \n",
      " 0   tconst           146144 non-null  object \n",
      " 1   primary_title    146144 non-null  object \n",
      " 2   original_title   146123 non-null  object \n",
      " 3   start_year       146144 non-null  int64  \n",
      " 4   runtime_minutes  114405 non-null  float64\n",
      " 5   genres           140736 non-null  object \n",
      "dtypes: float64(1), int64(1), object(4)\n",
      "memory usage: 6.7+ MB\n"
     ]
    }
   ],
   "source": [
    "imdb_basics_df.info()"
   ]
  },
  {
   "cell_type": "code",
   "execution_count": 4,
   "metadata": {},
   "outputs": [
    {
     "data": {
      "text/html": [
       "<div>\n",
       "<style scoped>\n",
       "    .dataframe tbody tr th:only-of-type {\n",
       "        vertical-align: middle;\n",
       "    }\n",
       "\n",
       "    .dataframe tbody tr th {\n",
       "        vertical-align: top;\n",
       "    }\n",
       "\n",
       "    .dataframe thead th {\n",
       "        text-align: right;\n",
       "    }\n",
       "</style>\n",
       "<table border=\"1\" class=\"dataframe\">\n",
       "  <thead>\n",
       "    <tr style=\"text-align: right;\">\n",
       "      <th></th>\n",
       "      <th>start_year</th>\n",
       "      <th>runtime_minutes</th>\n",
       "    </tr>\n",
       "  </thead>\n",
       "  <tbody>\n",
       "    <tr>\n",
       "      <th>count</th>\n",
       "      <td>146144.000000</td>\n",
       "      <td>114405.000000</td>\n",
       "    </tr>\n",
       "    <tr>\n",
       "      <th>mean</th>\n",
       "      <td>2014.621798</td>\n",
       "      <td>86.187247</td>\n",
       "    </tr>\n",
       "    <tr>\n",
       "      <th>std</th>\n",
       "      <td>2.733583</td>\n",
       "      <td>166.360590</td>\n",
       "    </tr>\n",
       "    <tr>\n",
       "      <th>min</th>\n",
       "      <td>2010.000000</td>\n",
       "      <td>1.000000</td>\n",
       "    </tr>\n",
       "    <tr>\n",
       "      <th>25%</th>\n",
       "      <td>2012.000000</td>\n",
       "      <td>70.000000</td>\n",
       "    </tr>\n",
       "    <tr>\n",
       "      <th>50%</th>\n",
       "      <td>2015.000000</td>\n",
       "      <td>87.000000</td>\n",
       "    </tr>\n",
       "    <tr>\n",
       "      <th>75%</th>\n",
       "      <td>2017.000000</td>\n",
       "      <td>99.000000</td>\n",
       "    </tr>\n",
       "    <tr>\n",
       "      <th>max</th>\n",
       "      <td>2115.000000</td>\n",
       "      <td>51420.000000</td>\n",
       "    </tr>\n",
       "  </tbody>\n",
       "</table>\n",
       "</div>"
      ],
      "text/plain": [
       "          start_year  runtime_minutes\n",
       "count  146144.000000    114405.000000\n",
       "mean     2014.621798        86.187247\n",
       "std         2.733583       166.360590\n",
       "min      2010.000000         1.000000\n",
       "25%      2012.000000        70.000000\n",
       "50%      2015.000000        87.000000\n",
       "75%      2017.000000        99.000000\n",
       "max      2115.000000     51420.000000"
      ]
     },
     "execution_count": 4,
     "metadata": {},
     "output_type": "execute_result"
    }
   ],
   "source": [
    "imdb_basics_df.describe()"
   ]
  },
  {
   "cell_type": "code",
   "execution_count": 5,
   "metadata": {},
   "outputs": [
    {
     "data": {
      "text/html": [
       "<div>\n",
       "<style scoped>\n",
       "    .dataframe tbody tr th:only-of-type {\n",
       "        vertical-align: middle;\n",
       "    }\n",
       "\n",
       "    .dataframe tbody tr th {\n",
       "        vertical-align: top;\n",
       "    }\n",
       "\n",
       "    .dataframe thead th {\n",
       "        text-align: right;\n",
       "    }\n",
       "</style>\n",
       "<table border=\"1\" class=\"dataframe\">\n",
       "  <thead>\n",
       "    <tr style=\"text-align: right;\">\n",
       "      <th></th>\n",
       "      <th>tconst</th>\n",
       "      <th>primary_title</th>\n",
       "      <th>original_title</th>\n",
       "      <th>start_year</th>\n",
       "      <th>runtime_minutes</th>\n",
       "      <th>genres</th>\n",
       "    </tr>\n",
       "  </thead>\n",
       "  <tbody>\n",
       "    <tr>\n",
       "      <th>0</th>\n",
       "      <td>tt0063540</td>\n",
       "      <td>Sunghursh</td>\n",
       "      <td>Sunghursh</td>\n",
       "      <td>2013</td>\n",
       "      <td>175.0</td>\n",
       "      <td>Action,Crime,Drama</td>\n",
       "    </tr>\n",
       "    <tr>\n",
       "      <th>1</th>\n",
       "      <td>tt0066787</td>\n",
       "      <td>One Day Before the Rainy Season</td>\n",
       "      <td>Ashad Ka Ek Din</td>\n",
       "      <td>2019</td>\n",
       "      <td>114.0</td>\n",
       "      <td>Biography,Drama</td>\n",
       "    </tr>\n",
       "    <tr>\n",
       "      <th>2</th>\n",
       "      <td>tt0069049</td>\n",
       "      <td>The Other Side of the Wind</td>\n",
       "      <td>The Other Side of the Wind</td>\n",
       "      <td>2018</td>\n",
       "      <td>122.0</td>\n",
       "      <td>Drama</td>\n",
       "    </tr>\n",
       "    <tr>\n",
       "      <th>3</th>\n",
       "      <td>tt0069204</td>\n",
       "      <td>Sabse Bada Sukh</td>\n",
       "      <td>Sabse Bada Sukh</td>\n",
       "      <td>2018</td>\n",
       "      <td>NaN</td>\n",
       "      <td>Comedy,Drama</td>\n",
       "    </tr>\n",
       "    <tr>\n",
       "      <th>4</th>\n",
       "      <td>tt0100275</td>\n",
       "      <td>The Wandering Soap Opera</td>\n",
       "      <td>La Telenovela Errante</td>\n",
       "      <td>2017</td>\n",
       "      <td>80.0</td>\n",
       "      <td>Comedy,Drama,Fantasy</td>\n",
       "    </tr>\n",
       "  </tbody>\n",
       "</table>\n",
       "</div>"
      ],
      "text/plain": [
       "      tconst                    primary_title              original_title  \\\n",
       "0  tt0063540                        Sunghursh                   Sunghursh   \n",
       "1  tt0066787  One Day Before the Rainy Season             Ashad Ka Ek Din   \n",
       "2  tt0069049       The Other Side of the Wind  The Other Side of the Wind   \n",
       "3  tt0069204                  Sabse Bada Sukh             Sabse Bada Sukh   \n",
       "4  tt0100275         The Wandering Soap Opera       La Telenovela Errante   \n",
       "\n",
       "   start_year  runtime_minutes                genres  \n",
       "0        2013            175.0    Action,Crime,Drama  \n",
       "1        2019            114.0       Biography,Drama  \n",
       "2        2018            122.0                 Drama  \n",
       "3        2018              NaN          Comedy,Drama  \n",
       "4        2017             80.0  Comedy,Drama,Fantasy  "
      ]
     },
     "execution_count": 5,
     "metadata": {},
     "output_type": "execute_result"
    }
   ],
   "source": [
    "imdb_basics_df.head()"
   ]
  },
  {
   "cell_type": "markdown",
   "metadata": {},
   "source": [
    "## 2. IMDB Ratings data set\n",
    "\n",
    "<span style='font-family:Helvetica'>IMDB Ratings data set contains the average ratings and number of votes of each movie title.In this table too a movie/title is identified by the column \"tconst\"</span>"
   ]
  },
  {
   "cell_type": "code",
   "execution_count": 6,
   "metadata": {},
   "outputs": [
    {
     "name": "stdout",
     "output_type": "stream",
     "text": [
      "<class 'pandas.core.frame.DataFrame'>\n",
      "RangeIndex: 73856 entries, 0 to 73855\n",
      "Data columns (total 3 columns):\n",
      " #   Column         Non-Null Count  Dtype  \n",
      "---  ------         --------------  -----  \n",
      " 0   tconst         73856 non-null  object \n",
      " 1   averagerating  73856 non-null  float64\n",
      " 2   numvotes       73856 non-null  int64  \n",
      "dtypes: float64(1), int64(1), object(1)\n",
      "memory usage: 1.7+ MB\n"
     ]
    }
   ],
   "source": [
    "imdb_ratings_df.info()"
   ]
  },
  {
   "cell_type": "code",
   "execution_count": 7,
   "metadata": {},
   "outputs": [
    {
     "data": {
      "text/html": [
       "<div>\n",
       "<style scoped>\n",
       "    .dataframe tbody tr th:only-of-type {\n",
       "        vertical-align: middle;\n",
       "    }\n",
       "\n",
       "    .dataframe tbody tr th {\n",
       "        vertical-align: top;\n",
       "    }\n",
       "\n",
       "    .dataframe thead th {\n",
       "        text-align: right;\n",
       "    }\n",
       "</style>\n",
       "<table border=\"1\" class=\"dataframe\">\n",
       "  <thead>\n",
       "    <tr style=\"text-align: right;\">\n",
       "      <th></th>\n",
       "      <th>averagerating</th>\n",
       "      <th>numvotes</th>\n",
       "    </tr>\n",
       "  </thead>\n",
       "  <tbody>\n",
       "    <tr>\n",
       "      <th>count</th>\n",
       "      <td>73856.000000</td>\n",
       "      <td>7.385600e+04</td>\n",
       "    </tr>\n",
       "    <tr>\n",
       "      <th>mean</th>\n",
       "      <td>6.332729</td>\n",
       "      <td>3.523662e+03</td>\n",
       "    </tr>\n",
       "    <tr>\n",
       "      <th>std</th>\n",
       "      <td>1.474978</td>\n",
       "      <td>3.029402e+04</td>\n",
       "    </tr>\n",
       "    <tr>\n",
       "      <th>min</th>\n",
       "      <td>1.000000</td>\n",
       "      <td>5.000000e+00</td>\n",
       "    </tr>\n",
       "    <tr>\n",
       "      <th>25%</th>\n",
       "      <td>5.500000</td>\n",
       "      <td>1.400000e+01</td>\n",
       "    </tr>\n",
       "    <tr>\n",
       "      <th>50%</th>\n",
       "      <td>6.500000</td>\n",
       "      <td>4.900000e+01</td>\n",
       "    </tr>\n",
       "    <tr>\n",
       "      <th>75%</th>\n",
       "      <td>7.400000</td>\n",
       "      <td>2.820000e+02</td>\n",
       "    </tr>\n",
       "    <tr>\n",
       "      <th>max</th>\n",
       "      <td>10.000000</td>\n",
       "      <td>1.841066e+06</td>\n",
       "    </tr>\n",
       "  </tbody>\n",
       "</table>\n",
       "</div>"
      ],
      "text/plain": [
       "       averagerating      numvotes\n",
       "count   73856.000000  7.385600e+04\n",
       "mean        6.332729  3.523662e+03\n",
       "std         1.474978  3.029402e+04\n",
       "min         1.000000  5.000000e+00\n",
       "25%         5.500000  1.400000e+01\n",
       "50%         6.500000  4.900000e+01\n",
       "75%         7.400000  2.820000e+02\n",
       "max        10.000000  1.841066e+06"
      ]
     },
     "execution_count": 7,
     "metadata": {},
     "output_type": "execute_result"
    }
   ],
   "source": [
    "imdb_ratings_df.describe()"
   ]
  },
  {
   "cell_type": "code",
   "execution_count": 8,
   "metadata": {},
   "outputs": [
    {
     "data": {
      "text/html": [
       "<div>\n",
       "<style scoped>\n",
       "    .dataframe tbody tr th:only-of-type {\n",
       "        vertical-align: middle;\n",
       "    }\n",
       "\n",
       "    .dataframe tbody tr th {\n",
       "        vertical-align: top;\n",
       "    }\n",
       "\n",
       "    .dataframe thead th {\n",
       "        text-align: right;\n",
       "    }\n",
       "</style>\n",
       "<table border=\"1\" class=\"dataframe\">\n",
       "  <thead>\n",
       "    <tr style=\"text-align: right;\">\n",
       "      <th></th>\n",
       "      <th>tconst</th>\n",
       "      <th>averagerating</th>\n",
       "      <th>numvotes</th>\n",
       "    </tr>\n",
       "  </thead>\n",
       "  <tbody>\n",
       "    <tr>\n",
       "      <th>0</th>\n",
       "      <td>tt10356526</td>\n",
       "      <td>8.3</td>\n",
       "      <td>31</td>\n",
       "    </tr>\n",
       "    <tr>\n",
       "      <th>1</th>\n",
       "      <td>tt10384606</td>\n",
       "      <td>8.9</td>\n",
       "      <td>559</td>\n",
       "    </tr>\n",
       "    <tr>\n",
       "      <th>2</th>\n",
       "      <td>tt1042974</td>\n",
       "      <td>6.4</td>\n",
       "      <td>20</td>\n",
       "    </tr>\n",
       "    <tr>\n",
       "      <th>3</th>\n",
       "      <td>tt1043726</td>\n",
       "      <td>4.2</td>\n",
       "      <td>50352</td>\n",
       "    </tr>\n",
       "    <tr>\n",
       "      <th>4</th>\n",
       "      <td>tt1060240</td>\n",
       "      <td>6.5</td>\n",
       "      <td>21</td>\n",
       "    </tr>\n",
       "  </tbody>\n",
       "</table>\n",
       "</div>"
      ],
      "text/plain": [
       "       tconst  averagerating  numvotes\n",
       "0  tt10356526            8.3        31\n",
       "1  tt10384606            8.9       559\n",
       "2   tt1042974            6.4        20\n",
       "3   tt1043726            4.2     50352\n",
       "4   tt1060240            6.5        21"
      ]
     },
     "execution_count": 8,
     "metadata": {},
     "output_type": "execute_result"
    }
   ],
   "source": [
    "imdb_ratings_df.head()"
   ]
  },
  {
   "cell_type": "markdown",
   "metadata": {},
   "source": [
    "## 3. Bom.movie_gross dataset"
   ]
  },
  {
   "cell_type": "markdown",
   "metadata": {},
   "source": [
    "<span style='font-family:Helvetica'>This dataset has details of the domestic gross and foreign gross earned from each movie and the name of studio and the year in which it was produced.</span>"
   ]
  },
  {
   "cell_type": "code",
   "execution_count": 9,
   "metadata": {},
   "outputs": [
    {
     "name": "stdout",
     "output_type": "stream",
     "text": [
      "<class 'pandas.core.frame.DataFrame'>\n",
      "RangeIndex: 3387 entries, 0 to 3386\n",
      "Data columns (total 5 columns):\n",
      " #   Column          Non-Null Count  Dtype  \n",
      "---  ------          --------------  -----  \n",
      " 0   title           3387 non-null   object \n",
      " 1   studio          3382 non-null   object \n",
      " 2   domestic_gross  3359 non-null   float64\n",
      " 3   foreign_gross   2037 non-null   object \n",
      " 4   year            3387 non-null   int64  \n",
      "dtypes: float64(1), int64(1), object(3)\n",
      "memory usage: 132.4+ KB\n"
     ]
    }
   ],
   "source": [
    "bom_gross_df.info()"
   ]
  },
  {
   "cell_type": "code",
   "execution_count": 10,
   "metadata": {},
   "outputs": [
    {
     "data": {
      "text/html": [
       "<div>\n",
       "<style scoped>\n",
       "    .dataframe tbody tr th:only-of-type {\n",
       "        vertical-align: middle;\n",
       "    }\n",
       "\n",
       "    .dataframe tbody tr th {\n",
       "        vertical-align: top;\n",
       "    }\n",
       "\n",
       "    .dataframe thead th {\n",
       "        text-align: right;\n",
       "    }\n",
       "</style>\n",
       "<table border=\"1\" class=\"dataframe\">\n",
       "  <thead>\n",
       "    <tr style=\"text-align: right;\">\n",
       "      <th></th>\n",
       "      <th>domestic_gross</th>\n",
       "      <th>year</th>\n",
       "    </tr>\n",
       "  </thead>\n",
       "  <tbody>\n",
       "    <tr>\n",
       "      <th>count</th>\n",
       "      <td>3.359000e+03</td>\n",
       "      <td>3387.000000</td>\n",
       "    </tr>\n",
       "    <tr>\n",
       "      <th>mean</th>\n",
       "      <td>2.874585e+07</td>\n",
       "      <td>2013.958075</td>\n",
       "    </tr>\n",
       "    <tr>\n",
       "      <th>std</th>\n",
       "      <td>6.698250e+07</td>\n",
       "      <td>2.478141</td>\n",
       "    </tr>\n",
       "    <tr>\n",
       "      <th>min</th>\n",
       "      <td>1.000000e+02</td>\n",
       "      <td>2010.000000</td>\n",
       "    </tr>\n",
       "    <tr>\n",
       "      <th>25%</th>\n",
       "      <td>1.200000e+05</td>\n",
       "      <td>2012.000000</td>\n",
       "    </tr>\n",
       "    <tr>\n",
       "      <th>50%</th>\n",
       "      <td>1.400000e+06</td>\n",
       "      <td>2014.000000</td>\n",
       "    </tr>\n",
       "    <tr>\n",
       "      <th>75%</th>\n",
       "      <td>2.790000e+07</td>\n",
       "      <td>2016.000000</td>\n",
       "    </tr>\n",
       "    <tr>\n",
       "      <th>max</th>\n",
       "      <td>9.367000e+08</td>\n",
       "      <td>2018.000000</td>\n",
       "    </tr>\n",
       "  </tbody>\n",
       "</table>\n",
       "</div>"
      ],
      "text/plain": [
       "       domestic_gross         year\n",
       "count    3.359000e+03  3387.000000\n",
       "mean     2.874585e+07  2013.958075\n",
       "std      6.698250e+07     2.478141\n",
       "min      1.000000e+02  2010.000000\n",
       "25%      1.200000e+05  2012.000000\n",
       "50%      1.400000e+06  2014.000000\n",
       "75%      2.790000e+07  2016.000000\n",
       "max      9.367000e+08  2018.000000"
      ]
     },
     "execution_count": 10,
     "metadata": {},
     "output_type": "execute_result"
    }
   ],
   "source": [
    "bom_gross_df.describe()"
   ]
  },
  {
   "cell_type": "code",
   "execution_count": 11,
   "metadata": {},
   "outputs": [
    {
     "data": {
      "text/html": [
       "<div>\n",
       "<style scoped>\n",
       "    .dataframe tbody tr th:only-of-type {\n",
       "        vertical-align: middle;\n",
       "    }\n",
       "\n",
       "    .dataframe tbody tr th {\n",
       "        vertical-align: top;\n",
       "    }\n",
       "\n",
       "    .dataframe thead th {\n",
       "        text-align: right;\n",
       "    }\n",
       "</style>\n",
       "<table border=\"1\" class=\"dataframe\">\n",
       "  <thead>\n",
       "    <tr style=\"text-align: right;\">\n",
       "      <th></th>\n",
       "      <th>title</th>\n",
       "      <th>studio</th>\n",
       "      <th>domestic_gross</th>\n",
       "      <th>foreign_gross</th>\n",
       "      <th>year</th>\n",
       "    </tr>\n",
       "  </thead>\n",
       "  <tbody>\n",
       "    <tr>\n",
       "      <th>0</th>\n",
       "      <td>Toy Story 3</td>\n",
       "      <td>BV</td>\n",
       "      <td>415000000.0</td>\n",
       "      <td>652000000</td>\n",
       "      <td>2010</td>\n",
       "    </tr>\n",
       "    <tr>\n",
       "      <th>1</th>\n",
       "      <td>Alice in Wonderland (2010)</td>\n",
       "      <td>BV</td>\n",
       "      <td>334200000.0</td>\n",
       "      <td>691300000</td>\n",
       "      <td>2010</td>\n",
       "    </tr>\n",
       "    <tr>\n",
       "      <th>2</th>\n",
       "      <td>Harry Potter and the Deathly Hallows Part 1</td>\n",
       "      <td>WB</td>\n",
       "      <td>296000000.0</td>\n",
       "      <td>664300000</td>\n",
       "      <td>2010</td>\n",
       "    </tr>\n",
       "    <tr>\n",
       "      <th>3</th>\n",
       "      <td>Inception</td>\n",
       "      <td>WB</td>\n",
       "      <td>292600000.0</td>\n",
       "      <td>535700000</td>\n",
       "      <td>2010</td>\n",
       "    </tr>\n",
       "    <tr>\n",
       "      <th>4</th>\n",
       "      <td>Shrek Forever After</td>\n",
       "      <td>P/DW</td>\n",
       "      <td>238700000.0</td>\n",
       "      <td>513900000</td>\n",
       "      <td>2010</td>\n",
       "    </tr>\n",
       "  </tbody>\n",
       "</table>\n",
       "</div>"
      ],
      "text/plain": [
       "                                         title studio  domestic_gross  \\\n",
       "0                                  Toy Story 3     BV     415000000.0   \n",
       "1                   Alice in Wonderland (2010)     BV     334200000.0   \n",
       "2  Harry Potter and the Deathly Hallows Part 1     WB     296000000.0   \n",
       "3                                    Inception     WB     292600000.0   \n",
       "4                          Shrek Forever After   P/DW     238700000.0   \n",
       "\n",
       "  foreign_gross  year  \n",
       "0     652000000  2010  \n",
       "1     691300000  2010  \n",
       "2     664300000  2010  \n",
       "3     535700000  2010  \n",
       "4     513900000  2010  "
      ]
     },
     "execution_count": 11,
     "metadata": {},
     "output_type": "execute_result"
    }
   ],
   "source": [
    "bom_gross_df.head()"
   ]
  },
  {
   "cell_type": "markdown",
   "metadata": {},
   "source": [
    "## Data Preparation\n",
    "\n",
    "### Merging IMDB.Titles.Basics and IMDB.Titles.Ratings dataset\n",
    "\n",
    "<span style='font-family:Helvetica'><p>\n",
    "Datasets <b>IMDB.titles.Basics</b> and <b>IMDB.titles.Ratings</b> are found to have a common column \"tconst\",so I merged it to a single dataset <b> imdb_merged</b> for feature engineering and analysis.The following points on data were noted:</p>  \n",
    "    \n",
    "* There are 146,144 entries in IMDB.titles.Basics dataset but only 73,856 in IMDB.titles.Ratings dataset.\n",
    "* It is found that IMDB.titles.Basics dataset contains movies that are yet to be released.\n",
    "* Also while analsying both tables it is found that only movies released till 2019 have rating in      IMDB.titles.Ratings.\n",
    "    \n",
    "<p>Since average rating and number of votes is essential for our data analysis we may consider only 73,856 records obtained by merging the two data sets.</p></span>"
   ]
  },
  {
   "cell_type": "code",
   "execution_count": 12,
   "metadata": {},
   "outputs": [
    {
     "data": {
      "text/html": [
       "<div>\n",
       "<style scoped>\n",
       "    .dataframe tbody tr th:only-of-type {\n",
       "        vertical-align: middle;\n",
       "    }\n",
       "\n",
       "    .dataframe tbody tr th {\n",
       "        vertical-align: top;\n",
       "    }\n",
       "\n",
       "    .dataframe thead th {\n",
       "        text-align: right;\n",
       "    }\n",
       "</style>\n",
       "<table border=\"1\" class=\"dataframe\">\n",
       "  <thead>\n",
       "    <tr style=\"text-align: right;\">\n",
       "      <th></th>\n",
       "      <th>tconst</th>\n",
       "      <th>primary_title</th>\n",
       "      <th>original_title</th>\n",
       "      <th>start_year</th>\n",
       "      <th>runtime_minutes</th>\n",
       "      <th>genres</th>\n",
       "    </tr>\n",
       "  </thead>\n",
       "  <tbody>\n",
       "    <tr>\n",
       "      <th>89506</th>\n",
       "      <td>tt5174640</td>\n",
       "      <td>100 Years</td>\n",
       "      <td>100 Years</td>\n",
       "      <td>2115</td>\n",
       "      <td>NaN</td>\n",
       "      <td>Drama</td>\n",
       "    </tr>\n",
       "    <tr>\n",
       "      <th>96592</th>\n",
       "      <td>tt5637536</td>\n",
       "      <td>Avatar 5</td>\n",
       "      <td>Avatar 5</td>\n",
       "      <td>2027</td>\n",
       "      <td>NaN</td>\n",
       "      <td>Action,Adventure,Fantasy</td>\n",
       "    </tr>\n",
       "    <tr>\n",
       "      <th>2949</th>\n",
       "      <td>tt10300398</td>\n",
       "      <td>Untitled Star Wars Film</td>\n",
       "      <td>Untitled Star Wars Film</td>\n",
       "      <td>2026</td>\n",
       "      <td>NaN</td>\n",
       "      <td>Fantasy</td>\n",
       "    </tr>\n",
       "    <tr>\n",
       "      <th>52213</th>\n",
       "      <td>tt3095356</td>\n",
       "      <td>Avatar 4</td>\n",
       "      <td>Avatar 4</td>\n",
       "      <td>2025</td>\n",
       "      <td>NaN</td>\n",
       "      <td>Action,Adventure,Fantasy</td>\n",
       "    </tr>\n",
       "    <tr>\n",
       "      <th>105187</th>\n",
       "      <td>tt6149054</td>\n",
       "      <td>Fantastic Beasts and Where to Find Them 5</td>\n",
       "      <td>Fantastic Beasts and Where to Find Them 5</td>\n",
       "      <td>2024</td>\n",
       "      <td>NaN</td>\n",
       "      <td>Adventure,Family,Fantasy</td>\n",
       "    </tr>\n",
       "  </tbody>\n",
       "</table>\n",
       "</div>"
      ],
      "text/plain": [
       "            tconst                              primary_title  \\\n",
       "89506    tt5174640                                  100 Years   \n",
       "96592    tt5637536                                   Avatar 5   \n",
       "2949    tt10300398                    Untitled Star Wars Film   \n",
       "52213    tt3095356                                   Avatar 4   \n",
       "105187   tt6149054  Fantastic Beasts and Where to Find Them 5   \n",
       "\n",
       "                                   original_title  start_year  \\\n",
       "89506                                   100 Years        2115   \n",
       "96592                                    Avatar 5        2027   \n",
       "2949                      Untitled Star Wars Film        2026   \n",
       "52213                                    Avatar 4        2025   \n",
       "105187  Fantastic Beasts and Where to Find Them 5        2024   \n",
       "\n",
       "        runtime_minutes                    genres  \n",
       "89506               NaN                     Drama  \n",
       "96592               NaN  Action,Adventure,Fantasy  \n",
       "2949                NaN                   Fantasy  \n",
       "52213               NaN  Action,Adventure,Fantasy  \n",
       "105187              NaN  Adventure,Family,Fantasy  "
      ]
     },
     "execution_count": 12,
     "metadata": {},
     "output_type": "execute_result"
    }
   ],
   "source": [
    "# Code which shows that IMDB.title.basics table contains movies that are yet to be released.\n",
    "imdb_basics_df.sort_values([\"start_year\"],ascending = False).head(5)"
   ]
  },
  {
   "cell_type": "markdown",
   "metadata": {},
   "source": [
    "It is evident from the below code that IMDB.titles.basics dataset has 72288 records with no rating which is not considered for the analysis.\u0010"
   ]
  },
  {
   "cell_type": "code",
   "execution_count": 13,
   "metadata": {},
   "outputs": [
    {
     "name": "stdout",
     "output_type": "stream",
     "text": [
      "tconst                 0\n",
      "primary_title          0\n",
      "original_title        21\n",
      "start_year             0\n",
      "runtime_minutes    24119\n",
      "genres              4604\n",
      "averagerating      72288\n",
      "numvotes           72288\n",
      "_merge                 0\n",
      "dtype: int64\n"
     ]
    },
    {
     "data": {
      "text/html": [
       "<div>\n",
       "<style scoped>\n",
       "    .dataframe tbody tr th:only-of-type {\n",
       "        vertical-align: middle;\n",
       "    }\n",
       "\n",
       "    .dataframe tbody tr th {\n",
       "        vertical-align: top;\n",
       "    }\n",
       "\n",
       "    .dataframe thead th {\n",
       "        text-align: right;\n",
       "    }\n",
       "</style>\n",
       "<table border=\"1\" class=\"dataframe\">\n",
       "  <thead>\n",
       "    <tr style=\"text-align: right;\">\n",
       "      <th></th>\n",
       "      <th>start_year</th>\n",
       "      <th>runtime_minutes</th>\n",
       "      <th>averagerating</th>\n",
       "      <th>numvotes</th>\n",
       "    </tr>\n",
       "  </thead>\n",
       "  <tbody>\n",
       "    <tr>\n",
       "      <th>count</th>\n",
       "      <td>72288.000000</td>\n",
       "      <td>48169.000000</td>\n",
       "      <td>0.0</td>\n",
       "      <td>0.0</td>\n",
       "    </tr>\n",
       "    <tr>\n",
       "      <th>mean</th>\n",
       "      <td>2014.974961</td>\n",
       "      <td>74.544769</td>\n",
       "      <td>NaN</td>\n",
       "      <td>NaN</td>\n",
       "    </tr>\n",
       "    <tr>\n",
       "      <th>std</th>\n",
       "      <td>2.806210</td>\n",
       "      <td>75.355311</td>\n",
       "      <td>NaN</td>\n",
       "      <td>NaN</td>\n",
       "    </tr>\n",
       "    <tr>\n",
       "      <th>min</th>\n",
       "      <td>2010.000000</td>\n",
       "      <td>1.000000</td>\n",
       "      <td>NaN</td>\n",
       "      <td>NaN</td>\n",
       "    </tr>\n",
       "    <tr>\n",
       "      <th>25%</th>\n",
       "      <td>2013.000000</td>\n",
       "      <td>54.000000</td>\n",
       "      <td>NaN</td>\n",
       "      <td>NaN</td>\n",
       "    </tr>\n",
       "    <tr>\n",
       "      <th>50%</th>\n",
       "      <td>2015.000000</td>\n",
       "      <td>73.000000</td>\n",
       "      <td>NaN</td>\n",
       "      <td>NaN</td>\n",
       "    </tr>\n",
       "    <tr>\n",
       "      <th>75%</th>\n",
       "      <td>2017.000000</td>\n",
       "      <td>90.000000</td>\n",
       "      <td>NaN</td>\n",
       "      <td>NaN</td>\n",
       "    </tr>\n",
       "    <tr>\n",
       "      <th>max</th>\n",
       "      <td>2115.000000</td>\n",
       "      <td>6017.000000</td>\n",
       "      <td>NaN</td>\n",
       "      <td>NaN</td>\n",
       "    </tr>\n",
       "  </tbody>\n",
       "</table>\n",
       "</div>"
      ],
      "text/plain": [
       "         start_year  runtime_minutes  averagerating  numvotes\n",
       "count  72288.000000     48169.000000            0.0       0.0\n",
       "mean    2014.974961        74.544769            NaN       NaN\n",
       "std        2.806210        75.355311            NaN       NaN\n",
       "min     2010.000000         1.000000            NaN       NaN\n",
       "25%     2013.000000        54.000000            NaN       NaN\n",
       "50%     2015.000000        73.000000            NaN       NaN\n",
       "75%     2017.000000        90.000000            NaN       NaN\n",
       "max     2115.000000      6017.000000            NaN       NaN"
      ]
     },
     "execution_count": 13,
     "metadata": {},
     "output_type": "execute_result"
    }
   ],
   "source": [
    "#Code which shows that there are Movie records in IMDB.titles.Basics which has no corresponding values \n",
    "#(ie.,rating and number of votes in IMDB.titles.ratings table)\n",
    "df = imdb_basics_df.merge(imdb_ratings_df, \n",
    "                          how = 'outer' ,\n",
    "                          indicator = True).loc[lambda x : x['_merge']=='left_only']\n",
    "print(df.isnull().sum())\n",
    "df.describe()"
   ]
  },
  {
   "cell_type": "code",
   "execution_count": 14,
   "metadata": {},
   "outputs": [
    {
     "name": "stdout",
     "output_type": "stream",
     "text": [
      "<class 'pandas.core.frame.DataFrame'>\n",
      "Int64Index: 73856 entries, 0 to 73855\n",
      "Data columns (total 8 columns):\n",
      " #   Column           Non-Null Count  Dtype  \n",
      "---  ------           --------------  -----  \n",
      " 0   tconst           73856 non-null  object \n",
      " 1   primary_title    73856 non-null  object \n",
      " 2   original_title   73856 non-null  object \n",
      " 3   start_year       73856 non-null  int64  \n",
      " 4   runtime_minutes  66236 non-null  float64\n",
      " 5   genres           73052 non-null  object \n",
      " 6   averagerating    73856 non-null  float64\n",
      " 7   numvotes         73856 non-null  int64  \n",
      "dtypes: float64(2), int64(2), object(4)\n",
      "memory usage: 5.1+ MB\n",
      "Total records considered for analysis 73856\n"
     ]
    }
   ],
   "source": [
    "# Code to Merge datasets\n",
    "imdb_merged = pd.merge(imdb_basics_df\n",
    "                       ,imdb_ratings_df)\n",
    "imdb_merged.info() \n",
    "print(\"Total records considered for analysis\",len(imdb_merged))"
   ]
  },
  {
   "cell_type": "markdown",
   "metadata": {},
   "source": [
    "## Cleaning the data -Merged dataset(IMDB.titles.basics and IMDB.titles.rating)"
   ]
  },
  {
   "cell_type": "markdown",
   "metadata": {
    "scrolled": true
   },
   "source": [
    "Below lines are executed for cleaning and normalizing the columns."
   ]
  },
  {
   "cell_type": "code",
   "execution_count": 15,
   "metadata": {},
   "outputs": [
    {
     "data": {
      "text/plain": [
       "tconst                0\n",
       "primary_title         0\n",
       "original_title        0\n",
       "start_year            0\n",
       "runtime_minutes    7620\n",
       "genres              804\n",
       "averagerating         0\n",
       "numvotes              0\n",
       "dtype: int64"
      ]
     },
     "execution_count": 15,
     "metadata": {},
     "output_type": "execute_result"
    }
   ],
   "source": [
    "#To find null values in the merged data\n",
    "imdb_merged.isnull().sum()"
   ]
  },
  {
   "cell_type": "markdown",
   "metadata": {},
   "source": [
    " <span style='font-family:Helvetica'>Missing values are present in runtime_minutes column and genres column.Percentage of missing values were calculated as below.</span>"
   ]
  },
  {
   "cell_type": "code",
   "execution_count": 16,
   "metadata": {},
   "outputs": [
    {
     "data": {
      "text/plain": [
       "tconst              0.000000\n",
       "primary_title       0.000000\n",
       "original_title      0.000000\n",
       "start_year          0.000000\n",
       "runtime_minutes    10.317374\n",
       "genres              1.088605\n",
       "averagerating       0.000000\n",
       "numvotes            0.000000\n",
       "dtype: float64"
      ]
     },
     "execution_count": 16,
     "metadata": {},
     "output_type": "execute_result"
    }
   ],
   "source": [
    "#To find the percentage of null values in the merged dataset\n",
    "percent_missing_values_imdb = ((imdb_merged.isnull().sum())/len(imdb_merged))*100\n",
    "percent_missing_values_imdb "
   ]
  },
  {
   "cell_type": "code",
   "execution_count": 17,
   "metadata": {},
   "outputs": [
    {
     "name": "stdout",
     "output_type": "stream",
     "text": [
      "<class 'pandas.core.frame.DataFrame'>\n",
      "Int64Index: 65720 entries, 0 to 73855\n",
      "Data columns (total 8 columns):\n",
      " #   Column           Non-Null Count  Dtype  \n",
      "---  ------           --------------  -----  \n",
      " 0   Tconst           65720 non-null  object \n",
      " 1   Primary_Title    65720 non-null  object \n",
      " 2   Original_Title   65720 non-null  object \n",
      " 3   Start_Year       65720 non-null  int64  \n",
      " 4   Runtime_Minutes  65720 non-null  float64\n",
      " 5   Genres           65720 non-null  object \n",
      " 6   Averagerating    65720 non-null  float64\n",
      " 7   Numvotes         65720 non-null  int64  \n",
      "dtypes: float64(2), int64(2), object(4)\n",
      "memory usage: 4.5+ MB\n"
     ]
    }
   ],
   "source": [
    "#To remove the rows with null values in runtime_minutes column and genres column-IMDB merged dataset\n",
    "imdb_merged.dropna(inplace=True)\n",
    "imdb_merged.columns =imdb_merged.columns.str.title()\n",
    "imdb_merged.info()"
   ]
  },
  {
   "cell_type": "markdown",
   "metadata": {},
   "source": [
    "It is noted that Genres column of each movie title contains 2 or more genres.The below code is used to split the genres."
   ]
  },
  {
   "cell_type": "code",
   "execution_count": 18,
   "metadata": {},
   "outputs": [],
   "source": [
    "# Code to split the genres to individual columns\n",
    "gen={i.strip() for i in np.hstack(imdb_merged['Genres'].map(lambda x:x.split(',')))}\n",
    "for c in gen:\n",
    "    imdb_merged[c] = 0\n",
    "\n",
    "for index, row in imdb_merged.iterrows():\n",
    "    for g in row['Genres'].split(','):\n",
    "        imdb_merged.at[index,g] = 1"
   ]
  },
  {
   "cell_type": "code",
   "execution_count": 19,
   "metadata": {},
   "outputs": [
    {
     "name": "stdout",
     "output_type": "stream",
     "text": [
      "<class 'pandas.core.frame.DataFrame'>\n",
      "Int64Index: 65720 entries, 0 to 73855\n",
      "Data columns (total 34 columns):\n",
      " #   Column           Non-Null Count  Dtype  \n",
      "---  ------           --------------  -----  \n",
      " 0   Tconst           65720 non-null  object \n",
      " 1   Primary_Title    65720 non-null  object \n",
      " 2   Original_Title   65720 non-null  object \n",
      " 3   Start_Year       65720 non-null  int64  \n",
      " 4   Runtime_Minutes  65720 non-null  float64\n",
      " 5   Genres           65720 non-null  object \n",
      " 6   Averagerating    65720 non-null  float64\n",
      " 7   Numvotes         65720 non-null  int64  \n",
      " 8   Animation        65720 non-null  int64  \n",
      " 9   Adult            65720 non-null  int64  \n",
      " 10  Reality-TV       65720 non-null  int64  \n",
      " 11  Mystery          65720 non-null  int64  \n",
      " 12  Romance          65720 non-null  int64  \n",
      " 13  Game-Show        65720 non-null  int64  \n",
      " 14  News             65720 non-null  int64  \n",
      " 15  Crime            65720 non-null  int64  \n",
      " 16  Sport            65720 non-null  int64  \n",
      " 17  Short            65720 non-null  int64  \n",
      " 18  Thriller         65720 non-null  int64  \n",
      " 19  War              65720 non-null  int64  \n",
      " 20  Documentary      65720 non-null  int64  \n",
      " 21  Music            65720 non-null  int64  \n",
      " 22  Comedy           65720 non-null  int64  \n",
      " 23  Biography        65720 non-null  int64  \n",
      " 24  Family           65720 non-null  int64  \n",
      " 25  Horror           65720 non-null  int64  \n",
      " 26  Sci-Fi           65720 non-null  int64  \n",
      " 27  Adventure        65720 non-null  int64  \n",
      " 28  Fantasy          65720 non-null  int64  \n",
      " 29  Drama            65720 non-null  int64  \n",
      " 30  Action           65720 non-null  int64  \n",
      " 31  Western          65720 non-null  int64  \n",
      " 32  History          65720 non-null  int64  \n",
      " 33  Musical          65720 non-null  int64  \n",
      "dtypes: float64(2), int64(28), object(4)\n",
      "memory usage: 20.0+ MB\n"
     ]
    }
   ],
   "source": [
    "# The merged dataset with genre columns split into individual genre columns\n",
    "imdb_merged.info()"
   ]
  },
  {
   "cell_type": "markdown",
   "metadata": {},
   "source": [
    "## Cleaning the data -Box office Mojo dataset"
   ]
  },
  {
   "cell_type": "code",
   "execution_count": 20,
   "metadata": {},
   "outputs": [
    {
     "data": {
      "text/plain": [
       "title              0.000000\n",
       "studio             0.147623\n",
       "domestic_gross     0.826690\n",
       "foreign_gross     39.858282\n",
       "year               0.000000\n",
       "dtype: float64"
      ]
     },
     "execution_count": 20,
     "metadata": {},
     "output_type": "execute_result"
    }
   ],
   "source": [
    "# Finding null values in BOM_movie_gross\n",
    "percent_missing_values_bom = ((bom_gross_df.isnull().sum())/\n",
    "                              len(bom_gross_df))*100\n",
    "percent_missing_values_bom"
   ]
  },
  {
   "cell_type": "code",
   "execution_count": 21,
   "metadata": {},
   "outputs": [
    {
     "name": "stdout",
     "output_type": "stream",
     "text": [
      "<class 'pandas.core.frame.DataFrame'>\n",
      "Int64Index: 2007 entries, 0 to 3353\n",
      "Data columns (total 5 columns):\n",
      " #   Column          Non-Null Count  Dtype  \n",
      "---  ------          --------------  -----  \n",
      " 0   Title           2007 non-null   object \n",
      " 1   Studio          2007 non-null   object \n",
      " 2   Domestic_Gross  2007 non-null   float64\n",
      " 3   Foreign_Gross   2007 non-null   object \n",
      " 4   Year            2007 non-null   int64  \n",
      "dtypes: float64(1), int64(1), object(3)\n",
      "memory usage: 94.1+ KB\n"
     ]
    }
   ],
   "source": [
    "#To remove the rows with null values in BOM gross dataset\n",
    "bom_gross_df = bom_gross_df.dropna()\n",
    "bom_gross_df.columns = bom_gross_df.columns.str.title()\n",
    "bom_gross_df.info()"
   ]
  },
  {
   "cell_type": "code",
   "execution_count": 22,
   "metadata": {},
   "outputs": [],
   "source": [
    "# To convert data type of column \"Foreign_Gross\" to Float\n",
    "bom_gross_df[\"Foreign_Gross\"] = bom_gross_df[\"Foreign_Gross\"].str.replace(',','')\n",
    "bom_gross_df[\"Foreign_Gross\"] = bom_gross_df[\"Foreign_Gross\"].astype(float, errors = 'raise')"
   ]
  },
  {
   "cell_type": "code",
   "execution_count": 23,
   "metadata": {},
   "outputs": [],
   "source": [
    "# Adding a column Total gross which is Domestic Gross + Foreign Gross\n",
    "bom_gross_df[\"Total Gross(millions)\"] = (bom_gross_df[\"Foreign_Gross\"] + bom_gross_df[\"Domestic_Gross\"])/1000000"
   ]
  },
  {
   "cell_type": "code",
   "execution_count": 24,
   "metadata": {},
   "outputs": [
    {
     "name": "stdout",
     "output_type": "stream",
     "text": [
      "<class 'pandas.core.frame.DataFrame'>\n",
      "Int64Index: 2007 entries, 0 to 3353\n",
      "Data columns (total 6 columns):\n",
      " #   Column                 Non-Null Count  Dtype  \n",
      "---  ------                 --------------  -----  \n",
      " 0   Title                  2007 non-null   object \n",
      " 1   Studio                 2007 non-null   object \n",
      " 2   Domestic_Gross         2007 non-null   float64\n",
      " 3   Foreign_Gross          2007 non-null   float64\n",
      " 4   Year                   2007 non-null   int64  \n",
      " 5   Total Gross(millions)  2007 non-null   float64\n",
      "dtypes: float64(3), int64(1), object(2)\n",
      "memory usage: 109.8+ KB\n"
     ]
    }
   ],
   "source": [
    "bom_gross_df.info()"
   ]
  },
  {
   "cell_type": "markdown",
   "metadata": {},
   "source": [
    "### Merging merged IMDB dataset and BOM Gross dataset."
   ]
  },
  {
   "cell_type": "markdown",
   "metadata": {},
   "source": [
    "I merged the IMDB merged dataset and BOM_gross dataset which has common column which is 'Primary_Title' in former and 'Title' in later .This will help us to find genres with highest gross."
   ]
  },
  {
   "cell_type": "code",
   "execution_count": 25,
   "metadata": {},
   "outputs": [
    {
     "name": "stdout",
     "output_type": "stream",
     "text": [
      "<class 'pandas.core.frame.DataFrame'>\n",
      "Int64Index: 1767 entries, 0 to 2232\n",
      "Data columns (total 40 columns):\n",
      " #   Column                 Non-Null Count  Dtype  \n",
      "---  ------                 --------------  -----  \n",
      " 0   Title                  1767 non-null   object \n",
      " 1   Studio                 1767 non-null   object \n",
      " 2   Domestic_Gross         1767 non-null   float64\n",
      " 3   Foreign_Gross          1767 non-null   float64\n",
      " 4   Year                   1767 non-null   int64  \n",
      " 5   Total Gross(millions)  1767 non-null   float64\n",
      " 6   Tconst                 1767 non-null   object \n",
      " 7   Primary_Title          1767 non-null   object \n",
      " 8   Original_Title         1767 non-null   object \n",
      " 9   Start_Year             1767 non-null   float64\n",
      " 10  Runtime_Minutes        1767 non-null   float64\n",
      " 11  Genres                 1767 non-null   object \n",
      " 12  Averagerating          1767 non-null   float64\n",
      " 13  Numvotes               1767 non-null   float64\n",
      " 14  Animation              1767 non-null   float64\n",
      " 15  Adult                  1767 non-null   float64\n",
      " 16  Reality-TV             1767 non-null   float64\n",
      " 17  Mystery                1767 non-null   float64\n",
      " 18  Romance                1767 non-null   float64\n",
      " 19  Game-Show              1767 non-null   float64\n",
      " 20  News                   1767 non-null   float64\n",
      " 21  Crime                  1767 non-null   float64\n",
      " 22  Sport                  1767 non-null   float64\n",
      " 23  Short                  1767 non-null   float64\n",
      " 24  Thriller               1767 non-null   float64\n",
      " 25  War                    1767 non-null   float64\n",
      " 26  Documentary            1767 non-null   float64\n",
      " 27  Music                  1767 non-null   float64\n",
      " 28  Comedy                 1767 non-null   float64\n",
      " 29  Biography              1767 non-null   float64\n",
      " 30  Family                 1767 non-null   float64\n",
      " 31  Horror                 1767 non-null   float64\n",
      " 32  Sci-Fi                 1767 non-null   float64\n",
      " 33  Adventure              1767 non-null   float64\n",
      " 34  Fantasy                1767 non-null   float64\n",
      " 35  Drama                  1767 non-null   float64\n",
      " 36  Action                 1767 non-null   float64\n",
      " 37  Western                1767 non-null   float64\n",
      " 38  History                1767 non-null   float64\n",
      " 39  Musical                1767 non-null   float64\n",
      "dtypes: float64(33), int64(1), object(6)\n",
      "memory usage: 566.0+ KB\n"
     ]
    }
   ],
   "source": [
    "genre_revenue = pd.merge(left=bom_gross_df,\n",
    "                         right=imdb_merged,\n",
    "                         left_on='Title', \n",
    "                         right_on='Primary_Title',\n",
    "                         how='left')\n",
    "genre_revenue=genre_revenue.dropna()\n",
    "genre_revenue.info()"
   ]
  },
  {
   "cell_type": "markdown",
   "metadata": {},
   "source": [
    "## Data Modeling\n",
    "********\n",
    "Inorder to find the latest trend in movies we need to do our analysis around the fields like Genre,Average Rating,Number of Votes,Total Gross earned in box office.Also we will be able to find the studios that are creating box-office hits."
   ]
  },
  {
   "cell_type": "markdown",
   "metadata": {},
   "source": [
    "\n",
    "### Top Genres based on Average Rating , Number of Votes and Total Gross\n",
    "\n",
    "There are 26 genres in the dataset.Each movie is identified by 2 or more genres."
   ]
  },
  {
   "cell_type": "markdown",
   "metadata": {},
   "source": [
    "### 1. Top Genres based on Average Rating"
   ]
  },
  {
   "cell_type": "code",
   "execution_count": 26,
   "metadata": {},
   "outputs": [],
   "source": [
    "# To find Top Rated genres\n",
    "x_values = gen\n",
    "y_values = {}\n",
    "for x in x_values:\n",
    "   y_values[x] = imdb_merged[imdb_merged[x] == 1]['Averagerating'].mean()"
   ]
  },
  {
   "cell_type": "code",
   "execution_count": 27,
   "metadata": {},
   "outputs": [
    {
     "data": {
      "image/png": "[encoded data removed]",
      "text/plain": [
       "<Figure size 432x288 with 1 Axes>"
      ]
     },
     "metadata": {
      "needs_background": "light"
     },
     "output_type": "display_data"
    }
   ],
   "source": [
    "# To plot genres based on average rating to find the top rated genres\n",
    "\n",
    "genres_names = list(y_values.keys())\n",
    "genres_rating = list(y_values.values())\n",
    "sns.barplot(x = genres_rating,\n",
    "            y = genres_names)\n",
    "plt.xlabel(\"Average Ratings\")\n",
    "plt.ylabel(\"Genres\")\n",
    "plt.title(\"Average rating of genres\")\n",
    "plt.show()"
   ]
  },
  {
   "cell_type": "markdown",
   "metadata": {},
   "source": [
    "From the plot it is evident that the top genres with highest ratings are <b>Short,Documentary,Game-Show</b>"
   ]
  },
  {
   "cell_type": "markdown",
   "metadata": {},
   "source": [
    "### 2. Top Genres based on Number of Votes"
   ]
  },
  {
   "cell_type": "code",
   "execution_count": 28,
   "metadata": {},
   "outputs": [
    {
     "data": {
      "image/png": "[encoded data removed]",
      "text/plain": [
       "<Figure size 432x288 with 1 Axes>"
      ]
     },
     "metadata": {
      "needs_background": "light"
     },
     "output_type": "display_data"
    }
   ],
   "source": [
    "# To plot genres based on number of votes.\n",
    "x_values = gen\n",
    "Numvotes_values = {}\n",
    "for x in x_values:\n",
    "   Numvotes_values[x] = imdb_merged[imdb_merged[x] == 1]['Numvotes'].mean()\n",
    "\n",
    "genres_names = list(Numvotes_values.keys())\n",
    "genres_numvotes = list(Numvotes_values.values())\n",
    "sns.barplot(x = genres_numvotes,\n",
    "            y = genres_names)\n",
    "plt.xlabel(\"Number of Votes\")\n",
    "plt.ylabel(\"Genres\")\n",
    "plt.title(\"Number of votes per genres\")\n",
    "plt.show()"
   ]
  },
  {
   "cell_type": "markdown",
   "metadata": {},
   "source": [
    "<b>From this plot it is evident that maximum number of votes was for the genres Adventure,Sci-Fi,Action.</b>"
   ]
  },
  {
   "cell_type": "markdown",
   "metadata": {},
   "source": [
    "### 3.Top Genres based on Revenue"
   ]
  },
  {
   "cell_type": "markdown",
   "metadata": {},
   "source": [
    "It is evident from the below analysis that maximum gross revenue was obtained in the genres\n",
    "* 1.Sci-Fi\n",
    "* 2.Adventure\n",
    "* 3.Animation"
   ]
  },
  {
   "cell_type": "code",
   "execution_count": 29,
   "metadata": {},
   "outputs": [
    {
     "data": {
      "image/png": "[encoded data removed]",
      "text/plain": [
       "<Figure size 432x288 with 1 Axes>"
      ]
     },
     "metadata": {
      "needs_background": "light"
     },
     "output_type": "display_data"
    }
   ],
   "source": [
    "x_values = gen\n",
    "genre_Revenue_values = {}\n",
    "for x in x_values:\n",
    "   genre_Revenue_values[x] = genre_revenue[genre_revenue[x] == 1]['Total Gross(millions)'].mean()\n",
    "\n",
    "genres_names = list(genre_Revenue_values.keys())\n",
    "genres_Revenue = list(genre_Revenue_values.values())\n",
    "sns.barplot(x = genres_Revenue,\n",
    "            y = genres_names)\n",
    "plt.xlabel(\"Revenue(Millions)\")\n",
    "plt.ylabel(\"Genres\")\n",
    "plt.title(\"Genres based on Revenue\")\n",
    "plt.show()"
   ]
  },
  {
   "cell_type": "markdown",
   "metadata": {},
   "source": [
    "From the above three analysis we can infer the following:\n",
    "* Inorder to get more revenue genres like Sci-Fi,Adventure,Animation is to be considered.\n",
    "* For getting good rating genres like Short,Documentary,Game-Show is preferrable.\n",
    "* Highest number of votes was obtained for genres like Adventure,Sci-Fi,Action."
   ]
  },
  {
   "cell_type": "markdown",
   "metadata": {},
   "source": [
    "## To find the relation between Rating and Number of votes\n",
    "--------\n",
    "From the below plots it is understood there is no relation between the number of votes and average rating."
   ]
  },
  {
   "cell_type": "code",
   "execution_count": 30,
   "metadata": {},
   "outputs": [
    {
     "data": {
      "image/png": "[encoded data removed]",
      "text/plain": [
       "<Figure size 432x288 with 1 Axes>"
      ]
     },
     "metadata": {
      "needs_background": "light"
     },
     "output_type": "display_data"
    },
    {
     "data": {
      "image/png": "[encoded data removed]",
      "text/plain": [
       "<Figure size 432x288 with 1 Axes>"
      ]
     },
     "metadata": {
      "needs_background": "light"
     },
     "output_type": "display_data"
    }
   ],
   "source": [
    "# To find the relation between Rating and Number of votes\n",
    "\n",
    "sns.lineplot(x = 'Start_Year',y = 'Numvotes',data = imdb_merged,ci = None)\n",
    "plt.title(\"Number of votes over year\")\n",
    "plt.show()\n",
    "\n",
    "# To find the relation between Rating and Average rating\n",
    "\n",
    "sns.lineplot(x = 'Start_Year',y = 'Averagerating',data = imdb_merged,ci = None)\n",
    "plt.title(\"Rating over year\")\n",
    "plt.show()"
   ]
  },
  {
   "cell_type": "markdown",
   "metadata": {},
   "source": [
    "## <b>Genres with most number of movies</b>\n"
   ]
  },
  {
   "cell_type": "code",
   "execution_count": 31,
   "metadata": {},
   "outputs": [
    {
     "name": "stdout",
     "output_type": "stream",
     "text": [
      "Number of movies based on genres\n",
      "\n",
      "Animation: 1615\n",
      "Adult: 2\n",
      "Reality-TV: 13\n",
      "Mystery: 2889\n",
      "Romance: 5976\n",
      "Game-Show: 2\n",
      "News: 575\n",
      "Crime: 4338\n",
      "Sport: 1099\n",
      "Short: 1\n",
      "Thriller: 7583\n",
      "War: 795\n",
      "Documentary: 16423\n",
      "Music: 2438\n",
      "Comedy: 15514\n",
      "Biography: 3693\n",
      "Family: 3231\n",
      "Horror: 6917\n",
      "Sci-Fi: 2048\n",
      "Adventure: 3621\n",
      "Fantasy: 1969\n",
      "Drama: 28394\n",
      "Action: 6297\n",
      "Western: 256\n",
      "History: 2704\n",
      "Musical: 638\n"
     ]
    },
    {
     "data": {
      "image/png": "[encoded data removed]",
      "text/plain": [
       "<Figure size 432x288 with 1 Axes>"
      ]
     },
     "metadata": {
      "needs_background": "light"
     },
     "output_type": "display_data"
    }
   ],
   "source": [
    "# To find the number of movies based on genres\n",
    "count = {}\n",
    "print (\"Number of movies based on genres\\n\")\n",
    "for genres in gen:\n",
    "   print(genres + \":\" ,len(imdb_merged[imdb_merged[\"Genres\"].str.contains(genres,case=False)]))\n",
    "   temp = genres + \":\" ,len(imdb_merged[imdb_merged[\"Genres\"].str.contains(genres,case=False)])\n",
    "   count[genres] = len(imdb_merged[imdb_merged[\"Genres\"].str.contains(genres,case=False)])\n",
    "\n",
    "\n",
    "names = list(count.keys())\n",
    "values = list(count.values())\n",
    "\n",
    "sns.barplot(x = values,\n",
    "            y = names)\n",
    "plt.xlabel(\"Number of Movies\")\n",
    "plt.ylabel(\"Genres\")\n",
    "plt.title(\"Number of movies based on genres\")\n",
    "plt.show()"
   ]
  },
  {
   "cell_type": "markdown",
   "metadata": {},
   "source": [
    "<b>From this plot we can infer that maximum number of movies are created in the genre Drama,Documentary and Comedy.</b>\n",
    "\n",
    "---------------"
   ]
  },
  {
   "cell_type": "markdown",
   "metadata": {},
   "source": [
    "# Analysis of the trends in top voted movies in the IMDB data Set"
   ]
  },
  {
   "cell_type": "code",
   "execution_count": 32,
   "metadata": {
    "scrolled": false
   },
   "outputs": [
    {
     "name": "stdout",
     "output_type": "stream",
     "text": [
      "\t\tTop 5 movies and genres based on number of votes for the period 2010-2019\n"
     ]
    },
    {
     "data": {
      "text/html": [
       "<div>\n",
       "<style scoped>\n",
       "    .dataframe tbody tr th:only-of-type {\n",
       "        vertical-align: middle;\n",
       "    }\n",
       "\n",
       "    .dataframe tbody tr th {\n",
       "        vertical-align: top;\n",
       "    }\n",
       "\n",
       "    .dataframe thead th {\n",
       "        text-align: right;\n",
       "    }\n",
       "</style>\n",
       "<table border=\"1\" class=\"dataframe\">\n",
       "  <thead>\n",
       "    <tr style=\"text-align: right;\">\n",
       "      <th></th>\n",
       "      <th>Start_Year</th>\n",
       "      <th>Genres</th>\n",
       "      <th>Numvotes</th>\n",
       "    </tr>\n",
       "    <tr>\n",
       "      <th>Primary_Title</th>\n",
       "      <th></th>\n",
       "      <th></th>\n",
       "      <th></th>\n",
       "    </tr>\n",
       "  </thead>\n",
       "  <tbody>\n",
       "    <tr>\n",
       "      <th>Inception</th>\n",
       "      <td>2010</td>\n",
       "      <td>Action,Adventure,Sci-Fi</td>\n",
       "      <td>1841066</td>\n",
       "    </tr>\n",
       "    <tr>\n",
       "      <th>Shutter Island</th>\n",
       "      <td>2010</td>\n",
       "      <td>Mystery,Thriller</td>\n",
       "      <td>1005960</td>\n",
       "    </tr>\n",
       "    <tr>\n",
       "      <th>Toy Story 3</th>\n",
       "      <td>2010</td>\n",
       "      <td>Adventure,Animation,Comedy</td>\n",
       "      <td>682218</td>\n",
       "    </tr>\n",
       "    <tr>\n",
       "      <th>Iron Man 2</th>\n",
       "      <td>2010</td>\n",
       "      <td>Action,Adventure,Sci-Fi</td>\n",
       "      <td>657690</td>\n",
       "    </tr>\n",
       "    <tr>\n",
       "      <th>Black Swan</th>\n",
       "      <td>2010</td>\n",
       "      <td>Drama,Thriller</td>\n",
       "      <td>648854</td>\n",
       "    </tr>\n",
       "  </tbody>\n",
       "</table>\n",
       "</div>"
      ],
      "text/plain": [
       "                Start_Year                      Genres  Numvotes\n",
       "Primary_Title                                                   \n",
       "Inception             2010     Action,Adventure,Sci-Fi   1841066\n",
       "Shutter Island        2010            Mystery,Thriller   1005960\n",
       "Toy Story 3           2010  Adventure,Animation,Comedy    682218\n",
       "Iron Man 2            2010     Action,Adventure,Sci-Fi    657690\n",
       "Black Swan            2010              Drama,Thriller    648854"
      ]
     },
     "metadata": {},
     "output_type": "display_data"
    },
    {
     "data": {
      "text/html": [
       "<div>\n",
       "<style scoped>\n",
       "    .dataframe tbody tr th:only-of-type {\n",
       "        vertical-align: middle;\n",
       "    }\n",
       "\n",
       "    .dataframe tbody tr th {\n",
       "        vertical-align: top;\n",
       "    }\n",
       "\n",
       "    .dataframe thead th {\n",
       "        text-align: right;\n",
       "    }\n",
       "</style>\n",
       "<table border=\"1\" class=\"dataframe\">\n",
       "  <thead>\n",
       "    <tr style=\"text-align: right;\">\n",
       "      <th></th>\n",
       "      <th>Start_Year</th>\n",
       "      <th>Genres</th>\n",
       "      <th>Numvotes</th>\n",
       "    </tr>\n",
       "    <tr>\n",
       "      <th>Primary_Title</th>\n",
       "      <th></th>\n",
       "      <th></th>\n",
       "      <th></th>\n",
       "    </tr>\n",
       "  </thead>\n",
       "  <tbody>\n",
       "    <tr>\n",
       "      <th>Harry Potter and the Deathly Hallows: Part 2</th>\n",
       "      <td>2011</td>\n",
       "      <td>Adventure,Drama,Fantasy</td>\n",
       "      <td>691835</td>\n",
       "    </tr>\n",
       "    <tr>\n",
       "      <th>Thor</th>\n",
       "      <td>2011</td>\n",
       "      <td>Action,Adventure,Fantasy</td>\n",
       "      <td>683264</td>\n",
       "    </tr>\n",
       "    <tr>\n",
       "      <th>The Intouchables</th>\n",
       "      <td>2011</td>\n",
       "      <td>Biography,Comedy,Drama</td>\n",
       "      <td>677343</td>\n",
       "    </tr>\n",
       "    <tr>\n",
       "      <th>Captain America: The First Avenger</th>\n",
       "      <td>2011</td>\n",
       "      <td>Action,Adventure,Sci-Fi</td>\n",
       "      <td>668137</td>\n",
       "    </tr>\n",
       "    <tr>\n",
       "      <th>X-Men: First Class</th>\n",
       "      <td>2011</td>\n",
       "      <td>Action,Adventure,Sci-Fi</td>\n",
       "      <td>608930</td>\n",
       "    </tr>\n",
       "  </tbody>\n",
       "</table>\n",
       "</div>"
      ],
      "text/plain": [
       "                                              Start_Year  \\\n",
       "Primary_Title                                              \n",
       "Harry Potter and the Deathly Hallows: Part 2        2011   \n",
       "Thor                                                2011   \n",
       "The Intouchables                                    2011   \n",
       "Captain America: The First Avenger                  2011   \n",
       "X-Men: First Class                                  2011   \n",
       "\n",
       "                                                                Genres  \\\n",
       "Primary_Title                                                            \n",
       "Harry Potter and the Deathly Hallows: Part 2   Adventure,Drama,Fantasy   \n",
       "Thor                                          Action,Adventure,Fantasy   \n",
       "The Intouchables                                Biography,Comedy,Drama   \n",
       "Captain America: The First Avenger             Action,Adventure,Sci-Fi   \n",
       "X-Men: First Class                             Action,Adventure,Sci-Fi   \n",
       "\n",
       "                                              Numvotes  \n",
       "Primary_Title                                           \n",
       "Harry Potter and the Deathly Hallows: Part 2    691835  \n",
       "Thor                                            683264  \n",
       "The Intouchables                                677343  \n",
       "Captain America: The First Avenger              668137  \n",
       "X-Men: First Class                              608930  "
      ]
     },
     "metadata": {},
     "output_type": "display_data"
    },
    {
     "data": {
      "text/html": [
       "<div>\n",
       "<style scoped>\n",
       "    .dataframe tbody tr th:only-of-type {\n",
       "        vertical-align: middle;\n",
       "    }\n",
       "\n",
       "    .dataframe tbody tr th {\n",
       "        vertical-align: top;\n",
       "    }\n",
       "\n",
       "    .dataframe thead th {\n",
       "        text-align: right;\n",
       "    }\n",
       "</style>\n",
       "<table border=\"1\" class=\"dataframe\">\n",
       "  <thead>\n",
       "    <tr style=\"text-align: right;\">\n",
       "      <th></th>\n",
       "      <th>Start_Year</th>\n",
       "      <th>Genres</th>\n",
       "      <th>Numvotes</th>\n",
       "    </tr>\n",
       "    <tr>\n",
       "      <th>Primary_Title</th>\n",
       "      <th></th>\n",
       "      <th></th>\n",
       "      <th></th>\n",
       "    </tr>\n",
       "  </thead>\n",
       "  <tbody>\n",
       "    <tr>\n",
       "      <th>The Dark Knight Rises</th>\n",
       "      <td>2012</td>\n",
       "      <td>Action,Thriller</td>\n",
       "      <td>1387769</td>\n",
       "    </tr>\n",
       "    <tr>\n",
       "      <th>Django Unchained</th>\n",
       "      <td>2012</td>\n",
       "      <td>Drama,Western</td>\n",
       "      <td>1211405</td>\n",
       "    </tr>\n",
       "    <tr>\n",
       "      <th>The Avengers</th>\n",
       "      <td>2012</td>\n",
       "      <td>Action,Adventure,Sci-Fi</td>\n",
       "      <td>1183655</td>\n",
       "    </tr>\n",
       "    <tr>\n",
       "      <th>The Hunger Games</th>\n",
       "      <td>2012</td>\n",
       "      <td>Action,Adventure,Sci-Fi</td>\n",
       "      <td>795227</td>\n",
       "    </tr>\n",
       "    <tr>\n",
       "      <th>The Hobbit: An Unexpected Journey</th>\n",
       "      <td>2012</td>\n",
       "      <td>Adventure,Family,Fantasy</td>\n",
       "      <td>719629</td>\n",
       "    </tr>\n",
       "  </tbody>\n",
       "</table>\n",
       "</div>"
      ],
      "text/plain": [
       "                                   Start_Year                    Genres  \\\n",
       "Primary_Title                                                             \n",
       "The Dark Knight Rises                    2012           Action,Thriller   \n",
       "Django Unchained                         2012             Drama,Western   \n",
       "The Avengers                             2012   Action,Adventure,Sci-Fi   \n",
       "The Hunger Games                         2012   Action,Adventure,Sci-Fi   \n",
       "The Hobbit: An Unexpected Journey        2012  Adventure,Family,Fantasy   \n",
       "\n",
       "                                   Numvotes  \n",
       "Primary_Title                                \n",
       "The Dark Knight Rises               1387769  \n",
       "Django Unchained                    1211405  \n",
       "The Avengers                        1183655  \n",
       "The Hunger Games                     795227  \n",
       "The Hobbit: An Unexpected Journey    719629  "
      ]
     },
     "metadata": {},
     "output_type": "display_data"
    },
    {
     "data": {
      "text/html": [
       "<div>\n",
       "<style scoped>\n",
       "    .dataframe tbody tr th:only-of-type {\n",
       "        vertical-align: middle;\n",
       "    }\n",
       "\n",
       "    .dataframe tbody tr th {\n",
       "        vertical-align: top;\n",
       "    }\n",
       "\n",
       "    .dataframe thead th {\n",
       "        text-align: right;\n",
       "    }\n",
       "</style>\n",
       "<table border=\"1\" class=\"dataframe\">\n",
       "  <thead>\n",
       "    <tr style=\"text-align: right;\">\n",
       "      <th></th>\n",
       "      <th>Start_Year</th>\n",
       "      <th>Genres</th>\n",
       "      <th>Numvotes</th>\n",
       "    </tr>\n",
       "    <tr>\n",
       "      <th>Primary_Title</th>\n",
       "      <th></th>\n",
       "      <th></th>\n",
       "      <th></th>\n",
       "    </tr>\n",
       "  </thead>\n",
       "  <tbody>\n",
       "    <tr>\n",
       "      <th>The Wolf of Wall Street</th>\n",
       "      <td>2013</td>\n",
       "      <td>Biography,Crime,Drama</td>\n",
       "      <td>1035358</td>\n",
       "    </tr>\n",
       "    <tr>\n",
       "      <th>Gravity</th>\n",
       "      <td>2013</td>\n",
       "      <td>Drama,Sci-Fi,Thriller</td>\n",
       "      <td>710018</td>\n",
       "    </tr>\n",
       "    <tr>\n",
       "      <th>Iron Man 3</th>\n",
       "      <td>2013</td>\n",
       "      <td>Action,Adventure,Sci-Fi</td>\n",
       "      <td>692794</td>\n",
       "    </tr>\n",
       "    <tr>\n",
       "      <th>Man of Steel</th>\n",
       "      <td>2013</td>\n",
       "      <td>Action,Adventure,Sci-Fi</td>\n",
       "      <td>647288</td>\n",
       "    </tr>\n",
       "    <tr>\n",
       "      <th>12 Years a Slave</th>\n",
       "      <td>2013</td>\n",
       "      <td>Biography,Drama,History</td>\n",
       "      <td>577301</td>\n",
       "    </tr>\n",
       "  </tbody>\n",
       "</table>\n",
       "</div>"
      ],
      "text/plain": [
       "                         Start_Year                   Genres  Numvotes\n",
       "Primary_Title                                                         \n",
       "The Wolf of Wall Street        2013    Biography,Crime,Drama   1035358\n",
       "Gravity                        2013    Drama,Sci-Fi,Thriller    710018\n",
       "Iron Man 3                     2013  Action,Adventure,Sci-Fi    692794\n",
       "Man of Steel                   2013  Action,Adventure,Sci-Fi    647288\n",
       "12 Years a Slave               2013  Biography,Drama,History    577301"
      ]
     },
     "metadata": {},
     "output_type": "display_data"
    },
    {
     "data": {
      "text/html": [
       "<div>\n",
       "<style scoped>\n",
       "    .dataframe tbody tr th:only-of-type {\n",
       "        vertical-align: middle;\n",
       "    }\n",
       "\n",
       "    .dataframe tbody tr th {\n",
       "        vertical-align: top;\n",
       "    }\n",
       "\n",
       "    .dataframe thead th {\n",
       "        text-align: right;\n",
       "    }\n",
       "</style>\n",
       "<table border=\"1\" class=\"dataframe\">\n",
       "  <thead>\n",
       "    <tr style=\"text-align: right;\">\n",
       "      <th></th>\n",
       "      <th>Start_Year</th>\n",
       "      <th>Genres</th>\n",
       "      <th>Numvotes</th>\n",
       "    </tr>\n",
       "    <tr>\n",
       "      <th>Primary_Title</th>\n",
       "      <th></th>\n",
       "      <th></th>\n",
       "      <th></th>\n",
       "    </tr>\n",
       "  </thead>\n",
       "  <tbody>\n",
       "    <tr>\n",
       "      <th>Interstellar</th>\n",
       "      <td>2014</td>\n",
       "      <td>Adventure,Drama,Sci-Fi</td>\n",
       "      <td>1299334</td>\n",
       "    </tr>\n",
       "    <tr>\n",
       "      <th>Guardians of the Galaxy</th>\n",
       "      <td>2014</td>\n",
       "      <td>Action,Adventure,Comedy</td>\n",
       "      <td>948394</td>\n",
       "    </tr>\n",
       "    <tr>\n",
       "      <th>Gone Girl</th>\n",
       "      <td>2014</td>\n",
       "      <td>Drama,Mystery,Thriller</td>\n",
       "      <td>761592</td>\n",
       "    </tr>\n",
       "    <tr>\n",
       "      <th>Captain America: The Winter Soldier</th>\n",
       "      <td>2014</td>\n",
       "      <td>Action,Adventure,Sci-Fi</td>\n",
       "      <td>666252</td>\n",
       "    </tr>\n",
       "    <tr>\n",
       "      <th>The Grand Budapest Hotel</th>\n",
       "      <td>2014</td>\n",
       "      <td>Adventure,Comedy,Crime</td>\n",
       "      <td>633604</td>\n",
       "    </tr>\n",
       "  </tbody>\n",
       "</table>\n",
       "</div>"
      ],
      "text/plain": [
       "                                     Start_Year                   Genres  \\\n",
       "Primary_Title                                                              \n",
       "Interstellar                               2014   Adventure,Drama,Sci-Fi   \n",
       "Guardians of the Galaxy                    2014  Action,Adventure,Comedy   \n",
       "Gone Girl                                  2014   Drama,Mystery,Thriller   \n",
       "Captain America: The Winter Soldier        2014  Action,Adventure,Sci-Fi   \n",
       "The Grand Budapest Hotel                   2014   Adventure,Comedy,Crime   \n",
       "\n",
       "                                     Numvotes  \n",
       "Primary_Title                                  \n",
       "Interstellar                          1299334  \n",
       "Guardians of the Galaxy                948394  \n",
       "Gone Girl                              761592  \n",
       "Captain America: The Winter Soldier    666252  \n",
       "The Grand Budapest Hotel               633604  "
      ]
     },
     "metadata": {},
     "output_type": "display_data"
    },
    {
     "data": {
      "text/html": [
       "<div>\n",
       "<style scoped>\n",
       "    .dataframe tbody tr th:only-of-type {\n",
       "        vertical-align: middle;\n",
       "    }\n",
       "\n",
       "    .dataframe tbody tr th {\n",
       "        vertical-align: top;\n",
       "    }\n",
       "\n",
       "    .dataframe thead th {\n",
       "        text-align: right;\n",
       "    }\n",
       "</style>\n",
       "<table border=\"1\" class=\"dataframe\">\n",
       "  <thead>\n",
       "    <tr style=\"text-align: right;\">\n",
       "      <th></th>\n",
       "      <th>Start_Year</th>\n",
       "      <th>Genres</th>\n",
       "      <th>Numvotes</th>\n",
       "    </tr>\n",
       "    <tr>\n",
       "      <th>Primary_Title</th>\n",
       "      <th></th>\n",
       "      <th></th>\n",
       "      <th></th>\n",
       "    </tr>\n",
       "  </thead>\n",
       "  <tbody>\n",
       "    <tr>\n",
       "      <th>Star Wars: Episode VII - The Force Awakens</th>\n",
       "      <td>2015</td>\n",
       "      <td>Action,Adventure,Fantasy</td>\n",
       "      <td>784780</td>\n",
       "    </tr>\n",
       "    <tr>\n",
       "      <th>Mad Max: Fury Road</th>\n",
       "      <td>2015</td>\n",
       "      <td>Action,Adventure,Sci-Fi</td>\n",
       "      <td>780910</td>\n",
       "    </tr>\n",
       "    <tr>\n",
       "      <th>The Martian</th>\n",
       "      <td>2015</td>\n",
       "      <td>Adventure,Drama,Sci-Fi</td>\n",
       "      <td>680116</td>\n",
       "    </tr>\n",
       "    <tr>\n",
       "      <th>Avengers: Age of Ultron</th>\n",
       "      <td>2015</td>\n",
       "      <td>Action,Adventure,Sci-Fi</td>\n",
       "      <td>665594</td>\n",
       "    </tr>\n",
       "    <tr>\n",
       "      <th>The Revenant</th>\n",
       "      <td>2015</td>\n",
       "      <td>Action,Adventure,Biography</td>\n",
       "      <td>621193</td>\n",
       "    </tr>\n",
       "  </tbody>\n",
       "</table>\n",
       "</div>"
      ],
      "text/plain": [
       "                                            Start_Year  \\\n",
       "Primary_Title                                            \n",
       "Star Wars: Episode VII - The Force Awakens        2015   \n",
       "Mad Max: Fury Road                                2015   \n",
       "The Martian                                       2015   \n",
       "Avengers: Age of Ultron                           2015   \n",
       "The Revenant                                      2015   \n",
       "\n",
       "                                                                Genres  \\\n",
       "Primary_Title                                                            \n",
       "Star Wars: Episode VII - The Force Awakens    Action,Adventure,Fantasy   \n",
       "Mad Max: Fury Road                             Action,Adventure,Sci-Fi   \n",
       "The Martian                                     Adventure,Drama,Sci-Fi   \n",
       "Avengers: Age of Ultron                        Action,Adventure,Sci-Fi   \n",
       "The Revenant                                Action,Adventure,Biography   \n",
       "\n",
       "                                            Numvotes  \n",
       "Primary_Title                                         \n",
       "Star Wars: Episode VII - The Force Awakens    784780  \n",
       "Mad Max: Fury Road                            780910  \n",
       "The Martian                                   680116  \n",
       "Avengers: Age of Ultron                       665594  \n",
       "The Revenant                                  621193  "
      ]
     },
     "metadata": {},
     "output_type": "display_data"
    },
    {
     "data": {
      "text/html": [
       "<div>\n",
       "<style scoped>\n",
       "    .dataframe tbody tr th:only-of-type {\n",
       "        vertical-align: middle;\n",
       "    }\n",
       "\n",
       "    .dataframe tbody tr th {\n",
       "        vertical-align: top;\n",
       "    }\n",
       "\n",
       "    .dataframe thead th {\n",
       "        text-align: right;\n",
       "    }\n",
       "</style>\n",
       "<table border=\"1\" class=\"dataframe\">\n",
       "  <thead>\n",
       "    <tr style=\"text-align: right;\">\n",
       "      <th></th>\n",
       "      <th>Start_Year</th>\n",
       "      <th>Genres</th>\n",
       "      <th>Numvotes</th>\n",
       "    </tr>\n",
       "    <tr>\n",
       "      <th>Primary_Title</th>\n",
       "      <th></th>\n",
       "      <th></th>\n",
       "      <th></th>\n",
       "    </tr>\n",
       "  </thead>\n",
       "  <tbody>\n",
       "    <tr>\n",
       "      <th>Deadpool</th>\n",
       "      <td>2016</td>\n",
       "      <td>Action,Adventure,Comedy</td>\n",
       "      <td>820847</td>\n",
       "    </tr>\n",
       "    <tr>\n",
       "      <th>Captain America: Civil War</th>\n",
       "      <td>2016</td>\n",
       "      <td>Action,Adventure,Sci-Fi</td>\n",
       "      <td>583507</td>\n",
       "    </tr>\n",
       "    <tr>\n",
       "      <th>Batman v Superman: Dawn of Justice</th>\n",
       "      <td>2016</td>\n",
       "      <td>Action,Adventure,Fantasy</td>\n",
       "      <td>576909</td>\n",
       "    </tr>\n",
       "    <tr>\n",
       "      <th>Suicide Squad</th>\n",
       "      <td>2016</td>\n",
       "      <td>Action,Adventure,Fantasy</td>\n",
       "      <td>533039</td>\n",
       "    </tr>\n",
       "    <tr>\n",
       "      <th>Arrival</th>\n",
       "      <td>2016</td>\n",
       "      <td>Drama,Mystery,Sci-Fi</td>\n",
       "      <td>515483</td>\n",
       "    </tr>\n",
       "  </tbody>\n",
       "</table>\n",
       "</div>"
      ],
      "text/plain": [
       "                                    Start_Year                    Genres  \\\n",
       "Primary_Title                                                              \n",
       "Deadpool                                  2016   Action,Adventure,Comedy   \n",
       "Captain America: Civil War                2016   Action,Adventure,Sci-Fi   \n",
       "Batman v Superman: Dawn of Justice        2016  Action,Adventure,Fantasy   \n",
       "Suicide Squad                             2016  Action,Adventure,Fantasy   \n",
       "Arrival                                   2016      Drama,Mystery,Sci-Fi   \n",
       "\n",
       "                                    Numvotes  \n",
       "Primary_Title                                 \n",
       "Deadpool                              820847  \n",
       "Captain America: Civil War            583507  \n",
       "Batman v Superman: Dawn of Justice    576909  \n",
       "Suicide Squad                         533039  \n",
       "Arrival                               515483  "
      ]
     },
     "metadata": {},
     "output_type": "display_data"
    },
    {
     "data": {
      "text/html": [
       "<div>\n",
       "<style scoped>\n",
       "    .dataframe tbody tr th:only-of-type {\n",
       "        vertical-align: middle;\n",
       "    }\n",
       "\n",
       "    .dataframe tbody tr th {\n",
       "        vertical-align: top;\n",
       "    }\n",
       "\n",
       "    .dataframe thead th {\n",
       "        text-align: right;\n",
       "    }\n",
       "</style>\n",
       "<table border=\"1\" class=\"dataframe\">\n",
       "  <thead>\n",
       "    <tr style=\"text-align: right;\">\n",
       "      <th></th>\n",
       "      <th>Start_Year</th>\n",
       "      <th>Genres</th>\n",
       "      <th>Numvotes</th>\n",
       "    </tr>\n",
       "    <tr>\n",
       "      <th>Primary_Title</th>\n",
       "      <th></th>\n",
       "      <th></th>\n",
       "      <th></th>\n",
       "    </tr>\n",
       "  </thead>\n",
       "  <tbody>\n",
       "    <tr>\n",
       "      <th>Logan</th>\n",
       "      <td>2017</td>\n",
       "      <td>Action,Drama,Sci-Fi</td>\n",
       "      <td>560270</td>\n",
       "    </tr>\n",
       "    <tr>\n",
       "      <th>Wonder Woman</th>\n",
       "      <td>2017</td>\n",
       "      <td>Action,Adventure,Fantasy</td>\n",
       "      <td>487527</td>\n",
       "    </tr>\n",
       "    <tr>\n",
       "      <th>Thor: Ragnarok</th>\n",
       "      <td>2017</td>\n",
       "      <td>Action,Adventure,Comedy</td>\n",
       "      <td>482995</td>\n",
       "    </tr>\n",
       "    <tr>\n",
       "      <th>Guardians of the Galaxy Vol. 2</th>\n",
       "      <td>2017</td>\n",
       "      <td>Action,Adventure,Comedy</td>\n",
       "      <td>482917</td>\n",
       "    </tr>\n",
       "    <tr>\n",
       "      <th>Dunkirk</th>\n",
       "      <td>2017</td>\n",
       "      <td>Action,Drama,History</td>\n",
       "      <td>466580</td>\n",
       "    </tr>\n",
       "  </tbody>\n",
       "</table>\n",
       "</div>"
      ],
      "text/plain": [
       "                                Start_Year                    Genres  Numvotes\n",
       "Primary_Title                                                                 \n",
       "Logan                                 2017       Action,Drama,Sci-Fi    560270\n",
       "Wonder Woman                          2017  Action,Adventure,Fantasy    487527\n",
       "Thor: Ragnarok                        2017   Action,Adventure,Comedy    482995\n",
       "Guardians of the Galaxy Vol. 2        2017   Action,Adventure,Comedy    482917\n",
       "Dunkirk                               2017      Action,Drama,History    466580"
      ]
     },
     "metadata": {},
     "output_type": "display_data"
    },
    {
     "data": {
      "text/html": [
       "<div>\n",
       "<style scoped>\n",
       "    .dataframe tbody tr th:only-of-type {\n",
       "        vertical-align: middle;\n",
       "    }\n",
       "\n",
       "    .dataframe tbody tr th {\n",
       "        vertical-align: top;\n",
       "    }\n",
       "\n",
       "    .dataframe thead th {\n",
       "        text-align: right;\n",
       "    }\n",
       "</style>\n",
       "<table border=\"1\" class=\"dataframe\">\n",
       "  <thead>\n",
       "    <tr style=\"text-align: right;\">\n",
       "      <th></th>\n",
       "      <th>Start_Year</th>\n",
       "      <th>Genres</th>\n",
       "      <th>Numvotes</th>\n",
       "    </tr>\n",
       "    <tr>\n",
       "      <th>Primary_Title</th>\n",
       "      <th></th>\n",
       "      <th></th>\n",
       "      <th></th>\n",
       "    </tr>\n",
       "  </thead>\n",
       "  <tbody>\n",
       "    <tr>\n",
       "      <th>Avengers: Infinity War</th>\n",
       "      <td>2018</td>\n",
       "      <td>Action,Adventure,Sci-Fi</td>\n",
       "      <td>670926</td>\n",
       "    </tr>\n",
       "    <tr>\n",
       "      <th>Black Panther</th>\n",
       "      <td>2018</td>\n",
       "      <td>Action,Adventure,Sci-Fi</td>\n",
       "      <td>516148</td>\n",
       "    </tr>\n",
       "    <tr>\n",
       "      <th>Deadpool 2</th>\n",
       "      <td>2018</td>\n",
       "      <td>Action,Adventure,Comedy</td>\n",
       "      <td>391735</td>\n",
       "    </tr>\n",
       "    <tr>\n",
       "      <th>Bohemian Rhapsody</th>\n",
       "      <td>2018</td>\n",
       "      <td>Biography,Drama,Music</td>\n",
       "      <td>345466</td>\n",
       "    </tr>\n",
       "    <tr>\n",
       "      <th>A Quiet Place</th>\n",
       "      <td>2018</td>\n",
       "      <td>Drama,Horror,Sci-Fi</td>\n",
       "      <td>305031</td>\n",
       "    </tr>\n",
       "  </tbody>\n",
       "</table>\n",
       "</div>"
      ],
      "text/plain": [
       "                        Start_Year                   Genres  Numvotes\n",
       "Primary_Title                                                        \n",
       "Avengers: Infinity War        2018  Action,Adventure,Sci-Fi    670926\n",
       "Black Panther                 2018  Action,Adventure,Sci-Fi    516148\n",
       "Deadpool 2                    2018  Action,Adventure,Comedy    391735\n",
       "Bohemian Rhapsody             2018    Biography,Drama,Music    345466\n",
       "A Quiet Place                 2018      Drama,Horror,Sci-Fi    305031"
      ]
     },
     "metadata": {},
     "output_type": "display_data"
    },
    {
     "data": {
      "text/html": [
       "<div>\n",
       "<style scoped>\n",
       "    .dataframe tbody tr th:only-of-type {\n",
       "        vertical-align: middle;\n",
       "    }\n",
       "\n",
       "    .dataframe tbody tr th {\n",
       "        vertical-align: top;\n",
       "    }\n",
       "\n",
       "    .dataframe thead th {\n",
       "        text-align: right;\n",
       "    }\n",
       "</style>\n",
       "<table border=\"1\" class=\"dataframe\">\n",
       "  <thead>\n",
       "    <tr style=\"text-align: right;\">\n",
       "      <th></th>\n",
       "      <th>Start_Year</th>\n",
       "      <th>Genres</th>\n",
       "      <th>Numvotes</th>\n",
       "    </tr>\n",
       "    <tr>\n",
       "      <th>Primary_Title</th>\n",
       "      <th></th>\n",
       "      <th></th>\n",
       "      <th></th>\n",
       "    </tr>\n",
       "  </thead>\n",
       "  <tbody>\n",
       "    <tr>\n",
       "      <th>Avengers: Endgame</th>\n",
       "      <td>2019</td>\n",
       "      <td>Action,Adventure,Sci-Fi</td>\n",
       "      <td>441135</td>\n",
       "    </tr>\n",
       "    <tr>\n",
       "      <th>Captain Marvel</th>\n",
       "      <td>2019</td>\n",
       "      <td>Action,Adventure,Sci-Fi</td>\n",
       "      <td>296225</td>\n",
       "    </tr>\n",
       "    <tr>\n",
       "      <th>Glass</th>\n",
       "      <td>2019</td>\n",
       "      <td>Drama,Sci-Fi,Thriller</td>\n",
       "      <td>133793</td>\n",
       "    </tr>\n",
       "    <tr>\n",
       "      <th>Shazam!</th>\n",
       "      <td>2019</td>\n",
       "      <td>Action,Adventure,Comedy</td>\n",
       "      <td>109051</td>\n",
       "    </tr>\n",
       "    <tr>\n",
       "      <th>Us</th>\n",
       "      <td>2019</td>\n",
       "      <td>Horror,Mystery,Thriller</td>\n",
       "      <td>102511</td>\n",
       "    </tr>\n",
       "  </tbody>\n",
       "</table>\n",
       "</div>"
      ],
      "text/plain": [
       "                   Start_Year                   Genres  Numvotes\n",
       "Primary_Title                                                   \n",
       "Avengers: Endgame        2019  Action,Adventure,Sci-Fi    441135\n",
       "Captain Marvel           2019  Action,Adventure,Sci-Fi    296225\n",
       "Glass                    2019    Drama,Sci-Fi,Thriller    133793\n",
       "Shazam!                  2019  Action,Adventure,Comedy    109051\n",
       "Us                       2019  Horror,Mystery,Thriller    102511"
      ]
     },
     "metadata": {},
     "output_type": "display_data"
    }
   ],
   "source": [
    "# To get 5 top voted movies and genres in each year for the period 2010-2019\n",
    "\n",
    "year_val = sorted(imdb_merged[\"Start_Year\"].unique())\n",
    "grouped = imdb_merged.groupby([\"Start_Year\"])\n",
    "grouped\n",
    "print(\"\\t\\tTop 5 movies and genres based on number of votes for the period 2010-2019\")\n",
    "for year in year_val:\n",
    "    df_new = grouped.get_group(year)\n",
    "    display(df_new.nlargest(5,\"Numvotes\")[[\"Primary_Title\",\"Start_Year\",\"Genres\",\"Numvotes\"]].set_index(\"Primary_Title\"))\n"
   ]
  },
  {
   "cell_type": "markdown",
   "metadata": {},
   "source": [
    "<b>Based on the above analysis.The genre that is currently getting most number of public votes and the genre which has received the maximum number of votes among the movies/titles for the period 2010-2019 is Action,Adventure,Sci-FI.</b>\n"
   ]
  },
  {
   "cell_type": "code",
   "execution_count": 33,
   "metadata": {},
   "outputs": [
    {
     "data": {
      "image/png": "[encoded data removed]",
      "text/plain": [
       "<Figure size 1440x360 with 2 Axes>"
      ]
     },
     "metadata": {
      "needs_background": "light"
     },
     "output_type": "display_data"
    }
   ],
   "source": [
    "# Top genres based on number of votes for the period 2010-2019\n",
    "fig, axes = plt.subplots(1, 2, figsize = (20, 5), sharey = True)\n",
    "sns.barplot(ax = axes[0],\n",
    "            y = \"Genres\",\n",
    "            x = \"Numvotes\",\n",
    "            data = imdb_merged.nlargest(10,\"Numvotes\"))\n",
    "axes[0].set_title(\"Top genres based on number of votes for the period 2010-2019\")\n",
    "\n",
    "# Top genres based on number of votes for the year 2019\n",
    "sns.barplot(ax = axes[1],\n",
    "            y = \"Genres\",\n",
    "            x = \"Numvotes\",\n",
    "            data = df_new.nlargest(10,\"Numvotes\"))\n",
    "axes[1].set_title(\"Top genres based on number of votes for the year 2019\")\n",
    "plt.show()"
   ]
  },
  {
   "cell_type": "markdown",
   "metadata": {},
   "source": [
    "# Analysis of Top 10 movies with Highest Gross"
   ]
  },
  {
   "cell_type": "code",
   "execution_count": 34,
   "metadata": {},
   "outputs": [
    {
     "data": {
      "text/html": [
       "<div>\n",
       "<style scoped>\n",
       "    .dataframe tbody tr th:only-of-type {\n",
       "        vertical-align: middle;\n",
       "    }\n",
       "\n",
       "    .dataframe tbody tr th {\n",
       "        vertical-align: top;\n",
       "    }\n",
       "\n",
       "    .dataframe thead th {\n",
       "        text-align: right;\n",
       "    }\n",
       "</style>\n",
       "<table border=\"1\" class=\"dataframe\">\n",
       "  <thead>\n",
       "    <tr style=\"text-align: right;\">\n",
       "      <th></th>\n",
       "      <th>Studio</th>\n",
       "      <th>Domestic_Gross</th>\n",
       "      <th>Year</th>\n",
       "    </tr>\n",
       "    <tr>\n",
       "      <th>Title</th>\n",
       "      <th></th>\n",
       "      <th></th>\n",
       "      <th></th>\n",
       "    </tr>\n",
       "  </thead>\n",
       "  <tbody>\n",
       "    <tr>\n",
       "      <th>Star Wars: The Force Awakens</th>\n",
       "      <td>BV</td>\n",
       "      <td>936700000.0</td>\n",
       "      <td>2015</td>\n",
       "    </tr>\n",
       "    <tr>\n",
       "      <th>Black Panther</th>\n",
       "      <td>BV</td>\n",
       "      <td>700100000.0</td>\n",
       "      <td>2018</td>\n",
       "    </tr>\n",
       "    <tr>\n",
       "      <th>Avengers: Infinity War</th>\n",
       "      <td>BV</td>\n",
       "      <td>678800000.0</td>\n",
       "      <td>2018</td>\n",
       "    </tr>\n",
       "    <tr>\n",
       "      <th>Jurassic World</th>\n",
       "      <td>Uni.</td>\n",
       "      <td>652300000.0</td>\n",
       "      <td>2015</td>\n",
       "    </tr>\n",
       "    <tr>\n",
       "      <th>Marvel's The Avengers</th>\n",
       "      <td>BV</td>\n",
       "      <td>623400000.0</td>\n",
       "      <td>2012</td>\n",
       "    </tr>\n",
       "    <tr>\n",
       "      <th>Star Wars: The Last Jedi</th>\n",
       "      <td>BV</td>\n",
       "      <td>620200000.0</td>\n",
       "      <td>2017</td>\n",
       "    </tr>\n",
       "    <tr>\n",
       "      <th>Incredibles 2</th>\n",
       "      <td>BV</td>\n",
       "      <td>608600000.0</td>\n",
       "      <td>2018</td>\n",
       "    </tr>\n",
       "    <tr>\n",
       "      <th>Rogue One: A Star Wars Story</th>\n",
       "      <td>BV</td>\n",
       "      <td>532200000.0</td>\n",
       "      <td>2016</td>\n",
       "    </tr>\n",
       "    <tr>\n",
       "      <th>Beauty and the Beast (2017)</th>\n",
       "      <td>BV</td>\n",
       "      <td>504000000.0</td>\n",
       "      <td>2017</td>\n",
       "    </tr>\n",
       "    <tr>\n",
       "      <th>Finding Dory</th>\n",
       "      <td>BV</td>\n",
       "      <td>486300000.0</td>\n",
       "      <td>2016</td>\n",
       "    </tr>\n",
       "  </tbody>\n",
       "</table>\n",
       "</div>"
      ],
      "text/plain": [
       "                             Studio  Domestic_Gross  Year\n",
       "Title                                                    \n",
       "Star Wars: The Force Awakens     BV     936700000.0  2015\n",
       "Black Panther                    BV     700100000.0  2018\n",
       "Avengers: Infinity War           BV     678800000.0  2018\n",
       "Jurassic World                 Uni.     652300000.0  2015\n",
       "Marvel's The Avengers            BV     623400000.0  2012\n",
       "Star Wars: The Last Jedi         BV     620200000.0  2017\n",
       "Incredibles 2                    BV     608600000.0  2018\n",
       "Rogue One: A Star Wars Story     BV     532200000.0  2016\n",
       "Beauty and the Beast (2017)      BV     504000000.0  2017\n",
       "Finding Dory                     BV     486300000.0  2016"
      ]
     },
     "execution_count": 34,
     "metadata": {},
     "output_type": "execute_result"
    }
   ],
   "source": [
    "# Top 10 movies with Highest domestic gross\n",
    "top_ten_dom_movies = bom_gross_df.nlargest(10,\"Domestic_Gross\")[[\"Title\",\"Studio\",\"Domestic_Gross\",\"Year\"]].set_index(\"Title\")\n",
    "top_ten_dom_movies"
   ]
  },
  {
   "cell_type": "code",
   "execution_count": 35,
   "metadata": {
    "scrolled": true
   },
   "outputs": [
    {
     "data": {
      "image/png": "[encoded data removed]",
      "text/plain": [
       "<Figure size 432x288 with 1 Axes>"
      ]
     },
     "metadata": {
      "needs_background": "light"
     },
     "output_type": "display_data"
    }
   ],
   "source": [
    "# Plotting the top movies with highest domestic gross\n",
    "sns.barplot(x = 'Domestic_Gross',\n",
    "            y = top_ten_dom_movies.index,\n",
    "            data = top_ten_dom_movies)\n",
    "plt.title(\"Top 10 Highest Domestic gross movies\")\n",
    "plt.show()\n",
    "\n"
   ]
  },
  {
   "cell_type": "code",
   "execution_count": 36,
   "metadata": {},
   "outputs": [
    {
     "data": {
      "image/png": "[encoded data removed]",
      "text/plain": [
       "<Figure size 432x288 with 1 Axes>"
      ]
     },
     "metadata": {
      "needs_background": "light"
     },
     "output_type": "display_data"
    }
   ],
   "source": [
    "# Plotting the studios which produced movies with Domestic gross\n",
    "sns.barplot(y = 'Domestic_Gross',\n",
    "            x = 'Studio',\n",
    "            data = top_ten_dom_movies)\n",
    "plt.title(\"Top studios with highest Domestic gross movies\")\n",
    "plt.show()\n"
   ]
  },
  {
   "cell_type": "markdown",
   "metadata": {},
   "source": [
    "Movies with highest domestic gross were produced by studios BV and Uni. BV studio has produced the movie with highest domestic gross which was Star Wars: The Force Awakens in 2015"
   ]
  },
  {
   "cell_type": "code",
   "execution_count": 37,
   "metadata": {},
   "outputs": [
    {
     "data": {
      "text/html": [
       "<div>\n",
       "<style scoped>\n",
       "    .dataframe tbody tr th:only-of-type {\n",
       "        vertical-align: middle;\n",
       "    }\n",
       "\n",
       "    .dataframe tbody tr th {\n",
       "        vertical-align: top;\n",
       "    }\n",
       "\n",
       "    .dataframe thead th {\n",
       "        text-align: right;\n",
       "    }\n",
       "</style>\n",
       "<table border=\"1\" class=\"dataframe\">\n",
       "  <thead>\n",
       "    <tr style=\"text-align: right;\">\n",
       "      <th></th>\n",
       "      <th>Studio</th>\n",
       "      <th>Foreign_Gross</th>\n",
       "      <th>Year</th>\n",
       "    </tr>\n",
       "    <tr>\n",
       "      <th>Title</th>\n",
       "      <th></th>\n",
       "      <th></th>\n",
       "      <th></th>\n",
       "    </tr>\n",
       "  </thead>\n",
       "  <tbody>\n",
       "    <tr>\n",
       "      <th>Harry Potter and the Deathly Hallows Part 2</th>\n",
       "      <td>WB</td>\n",
       "      <td>960500000.0</td>\n",
       "      <td>2011</td>\n",
       "    </tr>\n",
       "    <tr>\n",
       "      <th>Avengers: Age of Ultron</th>\n",
       "      <td>BV</td>\n",
       "      <td>946400000.0</td>\n",
       "      <td>2015</td>\n",
       "    </tr>\n",
       "    <tr>\n",
       "      <th>Marvel's The Avengers</th>\n",
       "      <td>BV</td>\n",
       "      <td>895500000.0</td>\n",
       "      <td>2012</td>\n",
       "    </tr>\n",
       "    <tr>\n",
       "      <th>Jurassic World: Fallen Kingdom</th>\n",
       "      <td>Uni.</td>\n",
       "      <td>891800000.0</td>\n",
       "      <td>2018</td>\n",
       "    </tr>\n",
       "    <tr>\n",
       "      <th>Frozen</th>\n",
       "      <td>BV</td>\n",
       "      <td>875700000.0</td>\n",
       "      <td>2013</td>\n",
       "    </tr>\n",
       "    <tr>\n",
       "      <th>Wolf Warrior 2</th>\n",
       "      <td>HC</td>\n",
       "      <td>867600000.0</td>\n",
       "      <td>2017</td>\n",
       "    </tr>\n",
       "    <tr>\n",
       "      <th>Transformers: Age of Extinction</th>\n",
       "      <td>Par.</td>\n",
       "      <td>858600000.0</td>\n",
       "      <td>2014</td>\n",
       "    </tr>\n",
       "    <tr>\n",
       "      <th>Minions</th>\n",
       "      <td>Uni.</td>\n",
       "      <td>823400000.0</td>\n",
       "      <td>2015</td>\n",
       "    </tr>\n",
       "    <tr>\n",
       "      <th>Aquaman</th>\n",
       "      <td>WB</td>\n",
       "      <td>812700000.0</td>\n",
       "      <td>2018</td>\n",
       "    </tr>\n",
       "    <tr>\n",
       "      <th>Iron Man 3</th>\n",
       "      <td>BV</td>\n",
       "      <td>805800000.0</td>\n",
       "      <td>2013</td>\n",
       "    </tr>\n",
       "  </tbody>\n",
       "</table>\n",
       "</div>"
      ],
      "text/plain": [
       "                                            Studio  Foreign_Gross  Year\n",
       "Title                                                                  \n",
       "Harry Potter and the Deathly Hallows Part 2     WB    960500000.0  2011\n",
       "Avengers: Age of Ultron                         BV    946400000.0  2015\n",
       "Marvel's The Avengers                           BV    895500000.0  2012\n",
       "Jurassic World: Fallen Kingdom                Uni.    891800000.0  2018\n",
       "Frozen                                          BV    875700000.0  2013\n",
       "Wolf Warrior 2                                  HC    867600000.0  2017\n",
       "Transformers: Age of Extinction               Par.    858600000.0  2014\n",
       "Minions                                       Uni.    823400000.0  2015\n",
       "Aquaman                                         WB    812700000.0  2018\n",
       "Iron Man 3                                      BV    805800000.0  2013"
      ]
     },
     "execution_count": 37,
     "metadata": {},
     "output_type": "execute_result"
    }
   ],
   "source": [
    "# Top 10 movies with Highest Foreign Gross\n",
    "\n",
    "\n",
    "top_foreign_movies = bom_gross_df.nlargest(10,\"Foreign_Gross\")[[\"Title\",\"Studio\",\"Foreign_Gross\",\"Year\"]].set_index(\"Title\")\n",
    "top_foreign_movies"
   ]
  },
  {
   "cell_type": "code",
   "execution_count": 38,
   "metadata": {},
   "outputs": [
    {
     "data": {
      "image/png": "[encoded data removed]",
      "text/plain": [
       "<Figure size 432x288 with 1 Axes>"
      ]
     },
     "metadata": {
      "needs_background": "light"
     },
     "output_type": "display_data"
    }
   ],
   "source": [
    "# Plotting the top movies with highest foreign gross\n",
    "sns.barplot(x = 'Foreign_Gross',\n",
    "            y = top_foreign_movies.index,\n",
    "            data = top_foreign_movies)\n",
    "plt.title(\"Top 10 Highest Foreign gross movies\")\n",
    "plt.show()\n"
   ]
  },
  {
   "cell_type": "code",
   "execution_count": 39,
   "metadata": {},
   "outputs": [
    {
     "data": {
      "image/png": "[encoded data removed]",
      "text/plain": [
       "<Figure size 432x288 with 1 Axes>"
      ]
     },
     "metadata": {
      "needs_background": "light"
     },
     "output_type": "display_data"
    }
   ],
   "source": [
    "# Plotting the studios which produced movies with Foreign gross\n",
    "sns.barplot(y = 'Foreign_Gross',\n",
    "            x = 'Studio',\n",
    "            data = top_foreign_movies)\n",
    "plt.title(\"Top studios with highest Foreign gross movies\")\n",
    "plt.show()"
   ]
  },
  {
   "cell_type": "markdown",
   "metadata": {},
   "source": [
    "Movies with highest foreign gross were produced by studios WB,BV,Uni.,HC,Par. WB studio has produced the movie with highest domestic gross which was Harry Potter and the Deathly Hallows Part 2 in 2015."
   ]
  },
  {
   "cell_type": "markdown",
   "metadata": {},
   "source": [
    "Based on the above plots we cannot confirm about the studio that is performing well in market as the movies they produced were in 2011 and 2015.Hence we need to analyze the domestic gross and foreign gross of the top studios over the years."
   ]
  },
  {
   "cell_type": "markdown",
   "metadata": {},
   "source": [
    "## Analysis of Domestic gross of top studios"
   ]
  },
  {
   "cell_type": "code",
   "execution_count": 40,
   "metadata": {},
   "outputs": [
    {
     "data": {
      "image/png": "[encoded data removed]",
      "text/plain": [
       "<Figure size 432x288 with 1 Axes>"
      ]
     },
     "metadata": {
      "needs_background": "light"
     },
     "output_type": "display_data"
    }
   ],
   "source": [
    "top_studios = top_ten_dom_movies['Studio'].unique()\n",
    "COLORS = {'WB':'Blues','BV':'ocean','Uni.':'Greens_r','HC':'Dark2','Par.':'Wistia'}\n",
    "\n",
    "for studio in top_studios:\n",
    "        Stud_val = bom_gross_df.groupby('Studio').get_group(studio)\n",
    "        sns.lineplot(x = Stud_val['Year'].values,\n",
    "                     y = Stud_val['Domestic_Gross'].values,\n",
    "                     hue = Stud_val['Studio'].values,\n",
    "                     ci = None,\n",
    "                     palette = COLORS[studio] )\n",
    "        plt.title(\"Trends in domestic gross earned by top studios\")\n",
    "        plt.xlabel(\"Year\")\n",
    "        plt.ylabel(\"Domestic Gross\")"
   ]
  },
  {
   "cell_type": "markdown",
   "metadata": {},
   "source": [
    "From the above plot it is evident that BV studio is earning highest domestic gross consistenly."
   ]
  },
  {
   "cell_type": "code",
   "execution_count": 41,
   "metadata": {},
   "outputs": [
    {
     "data": {
      "image/png": "[encoded data removed]",
      "text/plain": [
       "<Figure size 432x288 with 1 Axes>"
      ]
     },
     "metadata": {
      "needs_background": "light"
     },
     "output_type": "display_data"
    }
   ],
   "source": [
    "top_studios = top_foreign_movies['Studio'].unique()\n",
    "COLORS = {'WB':'Blues','BV':'ocean','Uni.':'Greens_r','HC':'Dark2','Par.':'Wistia'}\n",
    "\n",
    "for studio in top_studios:\n",
    "        Stud_val = bom_gross_df.groupby('Studio').get_group(studio)\n",
    "        sns.lineplot(x = Stud_val['Year'].values,\n",
    "                     y = Stud_val['Foreign_Gross'].values,\n",
    "                     hue = Stud_val['Studio'].values,\n",
    "                     ci = None, \n",
    "                     palette = COLORS[studio] )\n",
    "        plt.title(\"Trends in foreign gross earned by top studios\")\n",
    "        plt.xlabel(\"Year\")\n",
    "        plt.ylabel(\"Foreign Gross\")"
   ]
  },
  {
   "cell_type": "markdown",
   "metadata": {},
   "source": [
    "From this plot we can see that even though BV studio has highest foreign gross,there has been a dip in its revenue earned in 2018.But the performance of WB studio has been increasing."
   ]
  },
  {
   "cell_type": "markdown",
   "metadata": {},
   "source": [
    "## Conclusions\n",
    "\n",
    "This analysis leads to three recommendations for the new Microsoft Movie Studio.\n",
    "\n",
    "* Inorder to get maximum revenue genres like Sci-Fi,Adventure,Animation is to be considered.\n",
    "* For getting good rating genres like Short,Documentary,Game-Show is preferrable.\n",
    "* Genres like Adventure,Sci-Fi,Action will enable to get maximum number of votes.\n",
    "* For collaboration BV studio can be considered which has performed consistently on the basis of domestic gross    earned.WB studio can also be considered as its performance has been increasing lately on the basis of foreign gross earned.\n",
    "\n",
    "\n"
   ]
  },
  {
   "cell_type": "markdown",
   "metadata": {},
   "source": [
    "### Limitations"
   ]
  },
  {
   "cell_type": "markdown",
   "metadata": {},
   "source": [
    "Even though we understood the latest trends in terms of genres,the success of the movie studio depends on the selection of crew members and getting a story based on the genre recommendation that can produce box office hits."
   ]
  }
 ],
 "metadata": {
  "kernelspec": {
   "display_name": "Python 3",
   "language": "python",
   "name": "python3"
  },
  "language_info": {
   "codemirror_mode": {
    "name": "ipython",
    "version": 3
   },
   "file_extension": ".py",
   "mimetype": "text/x-python",
   "name": "python",
   "nbconvert_exporter": "python",
   "pygments_lexer": "ipython3",
   "version": "3.8.5"
  }
 },
 "nbformat": 4,
 "nbformat_minor": 4
}
