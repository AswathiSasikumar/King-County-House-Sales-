{
 "cells": [
  {
   "cell_type": "code",
   "execution_count": 8,
   "metadata": {},
   "outputs": [
    {
     "data": {
      "text/plain": [
       "['app1le', 'ap2pe', 'a4ppel']"
      ]
     },
     "metadata": {},
     "output_type": "display_data"
    },
    {
     "data": {
      "text/plain": [
       "['ap2pe', 'app1le', 'a4ppel']"
      ]
     },
     "metadata": {},
     "output_type": "display_data"
    },
    {
     "data": {
      "text/plain": [
       "['a3pp', 'ap2pe', 'app1le']"
      ]
     },
     "metadata": {},
     "output_type": "display_data"
    },
    {
     "data": {
      "text/plain": [
       "['a4ppel', 'ap2pe', 'app1le']"
      ]
     },
     "metadata": {},
     "output_type": "display_data"
    }
   ],
   "source": [
    "import difflib\n",
    "xlist=['apple','appe','app','appel']\n",
    "ylist=['app1le','ap2pe','a3pp','a4ppel']\n",
    "\n",
    "for i in xlist:\n",
    "    display(difflib.get_close_matches(i,ylist))"
   ]
  },
  {
   "cell_type": "code",
   "execution_count": 9,
   "metadata": {},
   "outputs": [
    {
     "ename": "NameError",
     "evalue": "name 'imdb_merged' is not defined",
     "output_type": "error",
     "traceback": [
      "\u001b[0;31m---------------------------------------------------------------------------\u001b[0m",
      "\u001b[0;31mNameError\u001b[0m                                 Traceback (most recent call last)",
      "\u001b[0;32m<ipython-input-9-22fe7cae8f2b>\u001b[0m in \u001b[0;36m<module>\u001b[0;34m\u001b[0m\n\u001b[1;32m      8\u001b[0m \u001b[0;31m#bom_gross_df['match'] = bom_gross_df['title'].apply(lambda x: difflib.get_close_matches('Toy Story',imdb_merged['primary_title'])[:1] or [None])[0]\u001b[0m\u001b[0;34m\u001b[0m\u001b[0;34m\u001b[0m\u001b[0;34m\u001b[0m\u001b[0m\n\u001b[1;32m      9\u001b[0m \u001b[0;31m#difflib.get_close_matches('Toy Story',imdb_merged['primary_title'])\u001b[0m\u001b[0;34m\u001b[0m\u001b[0;34m\u001b[0m\u001b[0;34m\u001b[0m\u001b[0m\n\u001b[0;32m---> 10\u001b[0;31m \u001b[0mlist_search\u001b[0m\u001b[0;34m=\u001b[0m\u001b[0mimdb_merged\u001b[0m\u001b[0;34m.\u001b[0m\u001b[0mprimary_title\u001b[0m\u001b[0;34m.\u001b[0m\u001b[0mvalues\u001b[0m\u001b[0;34m\u001b[0m\u001b[0;34m\u001b[0m\u001b[0m\n\u001b[0m\u001b[1;32m     11\u001b[0m \u001b[0mlist_search\u001b[0m\u001b[0;34m=\u001b[0m\u001b[0mlist_search\u001b[0m\u001b[0;34m.\u001b[0m\u001b[0mtolist\u001b[0m\u001b[0;34m(\u001b[0m\u001b[0;34m)\u001b[0m\u001b[0;34m\u001b[0m\u001b[0;34m\u001b[0m\u001b[0m\n\u001b[1;32m     12\u001b[0m \u001b[0mbom_list\u001b[0m\u001b[0;34m=\u001b[0m\u001b[0mbom_gross_df\u001b[0m\u001b[0;34m.\u001b[0m\u001b[0mtitle\u001b[0m\u001b[0;34m.\u001b[0m\u001b[0mvalues\u001b[0m\u001b[0;34m\u001b[0m\u001b[0;34m\u001b[0m\u001b[0m\n",
      "\u001b[0;31mNameError\u001b[0m: name 'imdb_merged' is not defined"
     ]
    }
   ],
   "source": [
    "#create duplicate column to retain team name from df2\n",
    "\n",
    "import difflib\n",
    "\n",
    "\n",
    "#convert team name in df2 to team name it most closely matches in df1\n",
    "#bom_gross_df['match'] = bom_gross_df['title'].apply(lambda x: difflib.get_close_matches(x,imdb_merged['primary_title'].values)[:1] or [None])[0]\n",
    "#bom_gross_df['match'] = bom_gross_df['title'].apply(lambda x: difflib.get_close_matches('Toy Story',imdb_merged['primary_title'])[:1] or [None])[0]\n",
    "#difflib.get_close_matches('Toy Story',imdb_merged['primary_title']) \n",
    "list_search=imdb_merged.primary_title.values\n",
    "list_search=list_search.tolist()\n",
    "bom_list=bom_gross_df.title.values\n",
    "bom_list=bom_list.tolist()\n",
    "for i in bom_list:\n",
    "    bom_gross_df['match']=(difflib.get_close_matches(i,list_search)[0]"
   ]
  },
  {
   "cell_type": "code",
   "execution_count": null,
   "metadata": {},
   "outputs": [],
   "source": [
    "sns.barplot(x=\"Start_Year\",y=\"Numvotes\",data = imdb_merged)\n",
    "plt.title(\"Votes By Year\")\n",
    "plt.show()\n",
    "\n",
    "sns.barplot(x=\"Start_Year\",y=imdb_merged[\"Primary_Title\"],data = imdb_merged)\n",
    "plt.title(\"Movies By Year\")\n",
    "plt.show()"
   ]
  },
  {
   "cell_type": "code",
   "execution_count": null,
   "metadata": {},
   "outputs": [],
   "source": [
    "imdb_merged['Start_Year'].value_counts()"
   ]
  }
 ],
 "metadata": {
  "kernelspec": {
   "display_name": "Python 3",
   "language": "python",
   "name": "python3"
  },
  "language_info": {
   "codemirror_mode": {
    "name": "ipython",
    "version": 3
   },
   "file_extension": ".py",
   "mimetype": "text/x-python",
   "name": "python",
   "nbconvert_exporter": "python",
   "pygments_lexer": "ipython3",
   "version": "3.8.5"
  }
 },
 "nbformat": 4,
 "nbformat_minor": 4
}
