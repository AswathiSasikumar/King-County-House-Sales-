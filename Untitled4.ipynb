{
 "cells": [
  {
   "cell_type": "code",
   "execution_count": 2,
   "metadata": {},
   "outputs": [],
   "source": [
    "# Import standard packages\n",
    "import pandas as pd\n",
    "import numpy as np\n",
    "import matplotlib.pyplot as plt\n",
    "import seaborn as sns\n",
    "from sklearn.feature_extraction.text import CountVectorizer as countVectorizer\n",
    "import difflib\n",
    "from pandas import Series, DataFrame\n",
    "%matplotlib inline"
   ]
  },
  {
   "cell_type": "code",
   "execution_count": 3,
   "metadata": {},
   "outputs": [],
   "source": [
    "# Here you run your code to explore the data\n",
    "imdb_basics_df = pd.read_csv('../Microsoft-Movie-Analysis/data/zippedData/imdb.title.basics.csv.gz', compression='gzip', \n",
    "                                 header=0, sep=',', quotechar='\"')\n",
    "imdb_ratings_df = pd.read_csv('../Microsoft-Movie-Analysis/data/zippedData/imdb.title.ratings.csv.gz', compression='gzip', \n",
    "                                 header=0, sep=',', quotechar='\"')\n",
    "bom_gross_df = pd.read_csv('../Microsoft-Movie-Analysis/data/zippedData/bom.movie_gross.csv.gz', compression='gzip', \n",
    "                                 header=0, sep=',', quotechar='\"')"
   ]
  },
  {
   "cell_type": "code",
   "execution_count": 4,
   "metadata": {},
   "outputs": [
    {
     "name": "stdout",
     "output_type": "stream",
     "text": [
      "<class 'pandas.core.frame.DataFrame'>\n",
      "Int64Index: 65720 entries, 0 to 73855\n",
      "Data columns (total 8 columns):\n",
      " #   Column           Non-Null Count  Dtype  \n",
      "---  ------           --------------  -----  \n",
      " 0   Tconst           65720 non-null  object \n",
      " 1   Primary_Title    65720 non-null  object \n",
      " 2   Original_Title   65720 non-null  object \n",
      " 3   Start_Year       65720 non-null  int64  \n",
      " 4   Runtime_Minutes  65720 non-null  float64\n",
      " 5   Genres           65720 non-null  object \n",
      " 6   Averagerating    65720 non-null  float64\n",
      " 7   Numvotes         65720 non-null  int64  \n",
      "dtypes: float64(2), int64(2), object(4)\n",
      "memory usage: 4.5+ MB\n"
     ]
    }
   ],
   "source": [
    "imdb_merged = pd.merge(imdb_basics_df,imdb_ratings_df)\n",
    "imdb_merged.dropna(inplace=True)\n",
    "imdb_merged.columns =imdb_merged.columns.str.title()\n",
    "imdb_merged.info()"
   ]
  },
  {
   "cell_type": "code",
   "execution_count": 5,
   "metadata": {},
   "outputs": [
    {
     "name": "stdout",
     "output_type": "stream",
     "text": [
      "<class 'pandas.core.frame.DataFrame'>\n",
      "Int64Index: 2007 entries, 0 to 3353\n",
      "Data columns (total 5 columns):\n",
      " #   Column          Non-Null Count  Dtype  \n",
      "---  ------          --------------  -----  \n",
      " 0   Title           2007 non-null   object \n",
      " 1   Studio          2007 non-null   object \n",
      " 2   Domestic_Gross  2007 non-null   float64\n",
      " 3   Foreign_Gross   2007 non-null   object \n",
      " 4   Year            2007 non-null   int64  \n",
      "dtypes: float64(1), int64(1), object(3)\n",
      "memory usage: 94.1+ KB\n"
     ]
    }
   ],
   "source": [
    "bom_gross_df=bom_gross_df.dropna()\n",
    "bom_gross_df.columns =bom_gross_df.columns.str.title()\n",
    "bom_gross_df.info()"
   ]
  },
  {
   "cell_type": "code",
   "execution_count": null,
   "metadata": {},
   "outputs": [],
   "source": [
    "bom_gross_df"
   ]
  },
  {
   "cell_type": "code",
   "execution_count": null,
   "metadata": {},
   "outputs": [],
   "source": [
    "values=[]\n",
    "#IMDB merged dataset\n",
    "list_search=imdb_merged.Primary_Title.values\n",
    "list_search=list_search.tolist()\n",
    "\n",
    "#Box office gross dataset\n",
    "bom_list=bom_gross_df.Title.values\n",
    "bom_list=bom_list.tolist()\n",
    "\n",
    "#bom_gross_df['Primary_Title'] = imdb_merged['Primary_Title'].apply(lambda x: difflib.get_close_matches(x, bom_list)[:1] or [None])[0]\n",
    "\n",
    "for i in bom_list:\n",
    "    print(\"comparing  \"+i)\n",
    "    display(difflib.get_close_matches(i,list_search,1)[:1] or [None][0])\n",
    "    values.append(difflib.get_close_matches(i,list_search,1,0.8)[:1] or [None][0])\n",
    "       "
   ]
  },
  {
   "cell_type": "code",
   "execution_count": null,
   "metadata": {},
   "outputs": [],
   "source": [
    "values"
   ]
  },
  {
   "cell_type": "code",
   "execution_count": null,
   "metadata": {},
   "outputs": [],
   "source": [
    "bom_gross_df['M_Title']=values\n",
    "#bom_gross_df['Primary_Title']=bom_gross_df['Primary_Title'].apply(str)"
   ]
  },
  {
   "cell_type": "code",
   "execution_count": null,
   "metadata": {},
   "outputs": [],
   "source": [
    "bom_gross_df.info()\n",
    "imdb_merged.info()"
   ]
  },
  {
   "cell_type": "code",
   "execution_count": null,
   "metadata": {},
   "outputs": [],
   "source": [
    "bom_gross_df"
   ]
  },
  {
   "cell_type": "code",
   "execution_count": null,
   "metadata": {},
   "outputs": [],
   "source": [
    "#bom_gross_df=bom_gross_df.dropna()\n",
    "imdb_merged"
   ]
  },
  {
   "cell_type": "code",
   "execution_count": null,
   "metadata": {},
   "outputs": [],
   "source": [
    "bom_gross_df['M_Title']=bom_gross_df['M_Title'].str[0]\n"
   ]
  },
  {
   "cell_type": "code",
   "execution_count": null,
   "metadata": {},
   "outputs": [],
   "source": [
    "genre_revenue = pd.merge(bom_gross_df,imdb_merged,left_on='M_Title',right_on='Primary_Title',how=\"left\")\n"
   ]
  },
  {
   "cell_type": "code",
   "execution_count": null,
   "metadata": {},
   "outputs": [],
   "source": [
    "bom_gross_df.tail()"
   ]
  },
  {
   "cell_type": "code",
   "execution_count": null,
   "metadata": {},
   "outputs": [],
   "source": [
    "genre_revenue = genre_revenue.drop_duplicates(subset='Tconst', keep=\"first\")\n"
   ]
  },
  {
   "cell_type": "code",
   "execution_count": null,
   "metadata": {},
   "outputs": [],
   "source": [
    "genre_revenue.info()"
   ]
  },
  {
   "cell_type": "code",
   "execution_count": null,
   "metadata": {},
   "outputs": [],
   "source": [
    "genre_revenue.loc[genre_revenue['Primary_Title'].str.contains('Star')]"
   ]
  },
  {
   "cell_type": "code",
   "execution_count": null,
   "metadata": {},
   "outputs": [],
   "source": [
    "bom_gross_df['Primary_Title']=bom_gross_df['Primary_Title'].str[0]"
   ]
  },
  {
   "cell_type": "code",
   "execution_count": null,
   "metadata": {},
   "outputs": [],
   "source": [
    "bom_gross_df"
   ]
  },
  {
   "cell_type": "code",
   "execution_count": null,
   "metadata": {},
   "outputs": [],
   "source": [
    "bom_gross_df"
   ]
  },
  {
   "cell_type": "code",
   "execution_count": null,
   "metadata": {},
   "outputs": [],
   "source": [
    "imdb_merged['Primary_Title']"
   ]
  },
  {
   "cell_type": "code",
   "execution_count": null,
   "metadata": {},
   "outputs": [],
   "source": [
    "difflib.get_close_matches(\"Reign of Judges: Title of Liberty - Concept Short\",list_search)[0]"
   ]
  },
  {
   "cell_type": "code",
   "execution_count": null,
   "metadata": {},
   "outputs": [],
   "source": [
    "imdb_merged[imdb_merged['Primary_Title'].str.contains(\"Reign of Judges: Title of Liberty - Concept Short\")]"
   ]
  },
  {
   "cell_type": "code",
   "execution_count": null,
   "metadata": {},
   "outputs": [],
   "source": [
    "bom_gross_df['Title'] "
   ]
  },
  {
   "cell_type": "code",
   "execution_count": null,
   "metadata": {},
   "outputs": [],
   "source": [
    "genre_revenue"
   ]
  },
  {
   "cell_type": "code",
   "execution_count": null,
   "metadata": {},
   "outputs": [],
   "source": [
    "genre_revenue=genre_revenue.isnull().sum()"
   ]
  },
  {
   "cell_type": "code",
   "execution_count": null,
   "metadata": {},
   "outputs": [],
   "source": [
    "genre_revenue"
   ]
  },
  {
   "cell_type": "code",
   "execution_count": null,
   "metadata": {},
   "outputs": [],
   "source": [
    "genre_revenue"
   ]
  },
  {
   "cell_type": "code",
   "execution_count": 10,
   "metadata": {},
   "outputs": [],
   "source": [
    "mat=np.matrix(genres)"
   ]
  },
  {
   "cell_type": "code",
   "execution_count": 11,
   "metadata": {},
   "outputs": [
    {
     "data": {
      "text/plain": [
       "matrix([[{'Action': 1, 'Crime': 1, 'Drama': 1},\n",
       "         {'Biography': 1, 'Drama': 1}, {'Drama': 1}, ...,\n",
       "         {'Documentary': 1}, {'Drama': 1, 'Family': 1},\n",
       "         {'Documentary': 1}]], dtype=object)"
      ]
     },
     "execution_count": 11,
     "metadata": {},
     "output_type": "execute_result"
    }
   ],
   "source": [
    "mat"
   ]
  },
  {
   "cell_type": "code",
   "execution_count": 6,
   "metadata": {},
   "outputs": [],
   "source": [
    "genres=imdb_merged['Genres'].apply(lambda g:g.split(',')).apply(lambda x:{A:1 for A in x})"
   ]
  },
  {
   "cell_type": "code",
   "execution_count": 7,
   "metadata": {},
   "outputs": [
    {
     "data": {
      "text/plain": [
       "0                {'Action': 1, 'Crime': 1, 'Drama': 1}\n",
       "1                         {'Biography': 1, 'Drama': 1}\n",
       "2                                         {'Drama': 1}\n",
       "4              {'Comedy': 1, 'Drama': 1, 'Fantasy': 1}\n",
       "6        {'Adventure': 1, 'Animation': 1, 'Comedy': 1}\n",
       "                             ...                      \n",
       "73849                                     {'Drama': 1}\n",
       "73850                               {'Documentary': 1}\n",
       "73851                               {'Documentary': 1}\n",
       "73852                        {'Drama': 1, 'Family': 1}\n",
       "73855                               {'Documentary': 1}\n",
       "Name: Genres, Length: 65720, dtype: object"
      ]
     },
     "execution_count": 7,
     "metadata": {},
     "output_type": "execute_result"
    }
   ],
   "source": [
    "genres"
   ]
  },
  {
   "cell_type": "code",
   "execution_count": null,
   "metadata": {},
   "outputs": [],
   "source": [
    "df_new=pd.concat([imdb_merged,pd.DataFrame(mat)],axis=1)"
   ]
  },
  {
   "cell_type": "code",
   "execution_count": null,
   "metadata": {},
   "outputs": [],
   "source": [
    "df_new"
   ]
  },
  {
   "cell_type": "code",
   "execution_count": null,
   "metadata": {},
   "outputs": [],
   "source": [
    "temp = imdb_merged.Genres.dropna()\n",
    "vec = countVectorizer(token_pattern='(?u)\\\\b[\\\\w-]+\\\\b', analyzer='word').fit(temp)\n",
    "bag_of_genres = vec.transform(temp)\n",
    "unique_genres =  vec.get_feature_names()\n",
    "genres_Array=np.array(unique_genres)\n",
    "genres_Array"
   ]
  },
  {
   "cell_type": "code",
   "execution_count": null,
   "metadata": {},
   "outputs": [],
   "source": [
    "genres = pd.DataFrame(genres)"
   ]
  },
  {
   "cell_type": "code",
   "execution_count": null,
   "metadata": {},
   "outputs": [],
   "source": [
    "genres"
   ]
  },
  {
   "cell_type": "code",
   "execution_count": null,
   "metadata": {},
   "outputs": [],
   "source": [
    "genres"
   ]
  },
  {
   "cell_type": "code",
   "execution_count": null,
   "metadata": {},
   "outputs": [],
   "source": []
  }
 ],
 "metadata": {
  "kernelspec": {
   "display_name": "Python 3",
   "language": "python",
   "name": "python3"
  },
  "language_info": {
   "codemirror_mode": {
    "name": "ipython",
    "version": 3
   },
   "file_extension": ".py",
   "mimetype": "text/x-python",
   "name": "python",
   "nbconvert_exporter": "python",
   "pygments_lexer": "ipython3",
   "version": "3.8.5"
  }
 },
 "nbformat": 4,
 "nbformat_minor": 4
}
